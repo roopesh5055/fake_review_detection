{
 "cells": [
  {
   "cell_type": "code",
   "execution_count": 1,
   "id": "0fe3302a",
   "metadata": {},
   "outputs": [],
   "source": [
    " import pandas as pd\n",
    "import numpy as np\n",
    "from sklearn import preprocessing\n",
    "import os\n",
    "\n",
    "\n",
    "# Define the path to your JSON file\n",
    "json_file_path = 'C:/Users/hp/Desktop/AIDI/CAPSTONE/Dataset/json files/Electronics.json'\n",
    "\n",
    "# Get the total number of rows in the JSON file\n",
    "total_rows = sum(1 for line in open(json_file_path))\n",
    "\n",
    "# Calculate the number of rows to read (half of the total rows)\n",
    "half_rows = total_rows // 2\n",
    "\n",
    "# Read only half of the JSON file\n",
    "Toys = pd.read_json(json_file_path, lines=True, nrows=half_rows)\n"
   ]
  },
  {
   "cell_type": "code",
   "execution_count": 4,
   "id": "1881cfc0",
   "metadata": {},
   "outputs": [],
   "source": [
    "Electronics=Toys"
   ]
  },
  {
   "cell_type": "code",
   "execution_count": 6,
   "id": "1f4939a3",
   "metadata": {},
   "outputs": [
    {
     "data": {
      "text/plain": [
       "(3787084, 12)"
      ]
     },
     "execution_count": 6,
     "metadata": {},
     "output_type": "execute_result"
    }
   ],
   "source": [
    "Electronics.shape"
   ]
  },
  {
   "cell_type": "code",
   "execution_count": 7,
   "id": "e357d4dd",
   "metadata": {},
   "outputs": [
    {
     "data": {
      "text/html": [
       "<div>\n",
       "<style scoped>\n",
       "    .dataframe tbody tr th:only-of-type {\n",
       "        vertical-align: middle;\n",
       "    }\n",
       "\n",
       "    .dataframe tbody tr th {\n",
       "        vertical-align: top;\n",
       "    }\n",
       "\n",
       "    .dataframe thead th {\n",
       "        text-align: right;\n",
       "    }\n",
       "</style>\n",
       "<table border=\"1\" class=\"dataframe\">\n",
       "  <thead>\n",
       "    <tr style=\"text-align: right;\">\n",
       "      <th></th>\n",
       "      <th>_id</th>\n",
       "      <th>reviewerID</th>\n",
       "      <th>asin</th>\n",
       "      <th>reviewerName</th>\n",
       "      <th>helpful</th>\n",
       "      <th>reviewText</th>\n",
       "      <th>overall</th>\n",
       "      <th>summary</th>\n",
       "      <th>unixReviewTime</th>\n",
       "      <th>reviewTime</th>\n",
       "      <th>category</th>\n",
       "      <th>class</th>\n",
       "    </tr>\n",
       "  </thead>\n",
       "  <tbody>\n",
       "    <tr>\n",
       "      <th>0</th>\n",
       "      <td>{'$oid': '5a13242d741a2384e88f3c11'}</td>\n",
       "      <td>A2WNBOD3WNDNKT</td>\n",
       "      <td>0439886341</td>\n",
       "      <td>JAL</td>\n",
       "      <td>[1, 1]</td>\n",
       "      <td>Some of the functions did not work properly.  ...</td>\n",
       "      <td>3</td>\n",
       "      <td>Disappointing</td>\n",
       "      <td>1374451200</td>\n",
       "      <td>07 22, 2013</td>\n",
       "      <td>Electronics</td>\n",
       "      <td>0</td>\n",
       "    </tr>\n",
       "    <tr>\n",
       "      <th>1</th>\n",
       "      <td>{'$oid': '5a13242d741a2384e88f3c0f'}</td>\n",
       "      <td>AKM1MP6P0OYPR</td>\n",
       "      <td>0132793040</td>\n",
       "      <td>Vicki Gibson \"momo4\"</td>\n",
       "      <td>[1, 1]</td>\n",
       "      <td>Corey Barker does a great job of explaining Bl...</td>\n",
       "      <td>5</td>\n",
       "      <td>Very thorough</td>\n",
       "      <td>1365811200</td>\n",
       "      <td>04 13, 2013</td>\n",
       "      <td>Electronics</td>\n",
       "      <td>1</td>\n",
       "    </tr>\n",
       "    <tr>\n",
       "      <th>2</th>\n",
       "      <td>{'$oid': '5a13242d741a2384e88f3c12'}</td>\n",
       "      <td>A2CX7LUOHB2NDG</td>\n",
       "      <td>0321732944</td>\n",
       "      <td>Bernie</td>\n",
       "      <td>[0, 0]</td>\n",
       "      <td>While many beginner DVDs try to teach you ever...</td>\n",
       "      <td>5</td>\n",
       "      <td>Adobe Photoshop CS5 Crash Course with master P...</td>\n",
       "      <td>1341100800</td>\n",
       "      <td>07 1, 2012</td>\n",
       "      <td>Electronics</td>\n",
       "      <td>1</td>\n",
       "    </tr>\n",
       "    <tr>\n",
       "      <th>3</th>\n",
       "      <td>{'$oid': '5a13242d741a2384e88f3c10'}</td>\n",
       "      <td>A2NWSAGRHCP8N5</td>\n",
       "      <td>0439886341</td>\n",
       "      <td>bowmans2007</td>\n",
       "      <td>[1, 1]</td>\n",
       "      <td>It never worked. My daughter worked to earn th...</td>\n",
       "      <td>1</td>\n",
       "      <td>absolutely horrible</td>\n",
       "      <td>1367193600</td>\n",
       "      <td>04 29, 2013</td>\n",
       "      <td>Electronics</td>\n",
       "      <td>0</td>\n",
       "    </tr>\n",
       "    <tr>\n",
       "      <th>4</th>\n",
       "      <td>{'$oid': '5a13242d741a2384e88f3c13'}</td>\n",
       "      <td>A1GI0U4ZRJA8WN</td>\n",
       "      <td>0439886341</td>\n",
       "      <td>Truthfull</td>\n",
       "      <td>[4, 4]</td>\n",
       "      <td>Do not waste your money on this thing it is te...</td>\n",
       "      <td>1</td>\n",
       "      <td>TERRIBLE DONT WASTE YOUR MONEY</td>\n",
       "      <td>1334707200</td>\n",
       "      <td>04 18, 2012</td>\n",
       "      <td>Electronics</td>\n",
       "      <td>0</td>\n",
       "    </tr>\n",
       "  </tbody>\n",
       "</table>\n",
       "</div>"
      ],
      "text/plain": [
       "                                    _id      reviewerID        asin  \\\n",
       "0  {'$oid': '5a13242d741a2384e88f3c11'}  A2WNBOD3WNDNKT  0439886341   \n",
       "1  {'$oid': '5a13242d741a2384e88f3c0f'}   AKM1MP6P0OYPR  0132793040   \n",
       "2  {'$oid': '5a13242d741a2384e88f3c12'}  A2CX7LUOHB2NDG  0321732944   \n",
       "3  {'$oid': '5a13242d741a2384e88f3c10'}  A2NWSAGRHCP8N5  0439886341   \n",
       "4  {'$oid': '5a13242d741a2384e88f3c13'}  A1GI0U4ZRJA8WN  0439886341   \n",
       "\n",
       "           reviewerName helpful  \\\n",
       "0                   JAL  [1, 1]   \n",
       "1  Vicki Gibson \"momo4\"  [1, 1]   \n",
       "2                Bernie  [0, 0]   \n",
       "3           bowmans2007  [1, 1]   \n",
       "4             Truthfull  [4, 4]   \n",
       "\n",
       "                                          reviewText  overall  \\\n",
       "0  Some of the functions did not work properly.  ...        3   \n",
       "1  Corey Barker does a great job of explaining Bl...        5   \n",
       "2  While many beginner DVDs try to teach you ever...        5   \n",
       "3  It never worked. My daughter worked to earn th...        1   \n",
       "4  Do not waste your money on this thing it is te...        1   \n",
       "\n",
       "                                             summary  unixReviewTime  \\\n",
       "0                                      Disappointing      1374451200   \n",
       "1                                      Very thorough      1365811200   \n",
       "2  Adobe Photoshop CS5 Crash Course with master P...      1341100800   \n",
       "3                                absolutely horrible      1367193600   \n",
       "4                     TERRIBLE DONT WASTE YOUR MONEY      1334707200   \n",
       "\n",
       "    reviewTime     category  class  \n",
       "0  07 22, 2013  Electronics      0  \n",
       "1  04 13, 2013  Electronics      1  \n",
       "2   07 1, 2012  Electronics      1  \n",
       "3  04 29, 2013  Electronics      0  \n",
       "4  04 18, 2012  Electronics      0  "
      ]
     },
     "execution_count": 7,
     "metadata": {},
     "output_type": "execute_result"
    }
   ],
   "source": [
    "Electronics.head()"
   ]
  },
  {
   "cell_type": "code",
   "execution_count": 8,
   "id": "2eb9df98",
   "metadata": {},
   "outputs": [
    {
     "name": "stdout",
     "output_type": "stream",
     "text": [
      "<class 'pandas.core.frame.DataFrame'>\n",
      "RangeIndex: 3787084 entries, 0 to 3787083\n",
      "Data columns (total 12 columns):\n",
      " #   Column          Dtype \n",
      "---  ------          ----- \n",
      " 0   _id             object\n",
      " 1   reviewerID      object\n",
      " 2   asin            object\n",
      " 3   reviewerName    object\n",
      " 4   helpful         object\n",
      " 5   reviewText      object\n",
      " 6   overall         int64 \n",
      " 7   summary         object\n",
      " 8   unixReviewTime  int64 \n",
      " 9   reviewTime      object\n",
      " 10  category        object\n",
      " 11  class           int64 \n",
      "dtypes: int64(3), object(9)\n",
      "memory usage: 346.7+ MB\n"
     ]
    }
   ],
   "source": [
    "Electronics.info()"
   ]
  },
  {
   "cell_type": "code",
   "execution_count": 9,
   "id": "1a2cd13c",
   "metadata": {},
   "outputs": [],
   "source": [
    "Electronics['unixReviewTime'] = pd.to_datetime(Electronics['unixReviewTime'],unit='s')"
   ]
  },
  {
   "cell_type": "code",
   "execution_count": 10,
   "id": "64e34d9d",
   "metadata": {},
   "outputs": [],
   "source": [
    "Electronics= Electronics.rename(columns={'overall': 'Product_rating'})\n",
    "Electronics= Electronics.rename(columns={'helpful': 'Review_rating'}) \n",
    "Electronics= Electronics.rename(columns={'reviewerName': 'Reviewer_name'})\n",
    "Electronics= Electronics.rename(columns={'asin': 'Product_Id'})\n",
    "Electronics= Electronics.rename(columns={'unixReviewTime': 'Time_of_review'})          "
   ]
  },
  {
   "cell_type": "code",
   "execution_count": 11,
   "id": "6e2074ff",
   "metadata": {},
   "outputs": [],
   "source": [
    "Electronics['reviewText'] = Electronics['reviewText'].str.lower()"
   ]
  },
  {
   "cell_type": "code",
   "execution_count": 8,
   "id": "e8e0a118",
   "metadata": {},
   "outputs": [],
   "source": [
    "Electronics.drop('reviewTime',axis=1,inplace=True)\n",
    "Electronics.drop('_id',axis=1,inplace=True)\n",
    "Electronics.drop('reviewerID',axis=1,inplace=True)"
   ]
  },
  {
   "cell_type": "code",
   "execution_count": 12,
   "id": "22cfb313",
   "metadata": {},
   "outputs": [
    {
     "name": "stdout",
     "output_type": "stream",
     "text": [
      "_id                   0\n",
      "reviewerID            0\n",
      "Product_Id            0\n",
      "Reviewer_name     35072\n",
      "Review_rating         0\n",
      "reviewText            0\n",
      "Product_rating        0\n",
      "summary               0\n",
      "Time_of_review        0\n",
      "reviewTime            0\n",
      "category              0\n",
      "class                 0\n",
      "dtype: int64\n"
     ]
    }
   ],
   "source": [
    "null_count = Electronics.isnull().sum()\n",
    "print(null_count)"
   ]
  },
  {
   "cell_type": "code",
   "execution_count": 18,
   "id": "be9e3607",
   "metadata": {},
   "outputs": [
    {
     "data": {
      "text/plain": [
       "class\n",
       "0    938584\n",
       "1    938584\n",
       "dtype: int64"
      ]
     },
     "execution_count": 18,
     "metadata": {},
     "output_type": "execute_result"
    }
   ],
   "source": [
    "Electronics.value_counts('class')"
   ]
  },
  {
   "cell_type": "code",
   "execution_count": 14,
   "id": "f9f7369e",
   "metadata": {},
   "outputs": [],
   "source": [
    "Electronics_sample_1 = Electronics[Electronics['class'] == 1].sample(938584)"
   ]
  },
  {
   "cell_type": "code",
   "execution_count": 15,
   "id": "d3b0e32e",
   "metadata": {},
   "outputs": [],
   "source": [
    "Electronics_sample_0 = Electronics[Electronics['class'] == 0].sample(938584)"
   ]
  },
  {
   "cell_type": "code",
   "execution_count": 16,
   "id": "9d3c65d7",
   "metadata": {},
   "outputs": [
    {
     "name": "stderr",
     "output_type": "stream",
     "text": [
      "C:\\Users\\hp\\AppData\\Local\\Temp\\ipykernel_16716\\1272485249.py:1: FutureWarning: The frame.append method is deprecated and will be removed from pandas in a future version. Use pandas.concat instead.\n",
      "  Electronics =Electronics_sample_0.append(Electronics_sample_1, ignore_index=True)\n"
     ]
    }
   ],
   "source": [
    "Electronics =Electronics_sample_0.append(Electronics_sample_1, ignore_index=True)"
   ]
  },
  {
   "cell_type": "code",
   "execution_count": 17,
   "id": "d9b6d3a3",
   "metadata": {},
   "outputs": [],
   "source": [
    "Electronics.to_csv('C:/Users/hp/Desktop/AIDI/CAPSTONE/cleaned_data/Electronics_and_Games.csv', index=False)"
   ]
  },
  {
   "cell_type": "code",
   "execution_count": null,
   "id": "396d88a5",
   "metadata": {},
   "outputs": [],
   "source": []
  }
 ],
 "metadata": {
  "kernelspec": {
   "display_name": "Python 3 (ipykernel)",
   "language": "python",
   "name": "python3"
  },
  "language_info": {
   "codemirror_mode": {
    "name": "ipython",
    "version": 3
   },
   "file_extension": ".py",
   "mimetype": "text/x-python",
   "name": "python",
   "nbconvert_exporter": "python",
   "pygments_lexer": "ipython3",
   "version": "3.9.12"
  }
 },
 "nbformat": 4,
 "nbformat_minor": 5
}
