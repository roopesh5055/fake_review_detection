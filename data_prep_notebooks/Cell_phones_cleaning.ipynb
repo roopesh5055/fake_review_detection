{
 "cells": [
  {
   "cell_type": "code",
   "execution_count": 38,
   "id": "d6ad20bf",
   "metadata": {},
   "outputs": [],
   "source": [
    " import pandas as pd\n",
    "import numpy as np\n",
    "from sklearn import preprocessing\n",
    "import os\n",
    "\n",
    "Cell_phones = pd.read_json('C:/Users/hp/Desktop/AIDI/CAPSTONE/Dataset/json files/Cell_Phones_and_Accessories.json', lines=True)"
   ]
  },
  {
   "cell_type": "code",
   "execution_count": 39,
   "id": "467c936d",
   "metadata": {},
   "outputs": [
    {
     "data": {
      "text/plain": [
       "(3185845, 12)"
      ]
     },
     "execution_count": 39,
     "metadata": {},
     "output_type": "execute_result"
    }
   ],
   "source": [
    "Cell_phones.shape"
   ]
  },
  {
   "cell_type": "code",
   "execution_count": 40,
   "id": "32b8e337",
   "metadata": {},
   "outputs": [
    {
     "data": {
      "text/html": [
       "<div>\n",
       "<style scoped>\n",
       "    .dataframe tbody tr th:only-of-type {\n",
       "        vertical-align: middle;\n",
       "    }\n",
       "\n",
       "    .dataframe tbody tr th {\n",
       "        vertical-align: top;\n",
       "    }\n",
       "\n",
       "    .dataframe thead th {\n",
       "        text-align: right;\n",
       "    }\n",
       "</style>\n",
       "<table border=\"1\" class=\"dataframe\">\n",
       "  <thead>\n",
       "    <tr style=\"text-align: right;\">\n",
       "      <th></th>\n",
       "      <th>_id</th>\n",
       "      <th>reviewerID</th>\n",
       "      <th>asin</th>\n",
       "      <th>reviewerName</th>\n",
       "      <th>helpful</th>\n",
       "      <th>reviewText</th>\n",
       "      <th>overall</th>\n",
       "      <th>summary</th>\n",
       "      <th>unixReviewTime</th>\n",
       "      <th>reviewTime</th>\n",
       "      <th>category</th>\n",
       "      <th>class</th>\n",
       "    </tr>\n",
       "  </thead>\n",
       "  <tbody>\n",
       "    <tr>\n",
       "      <th>0</th>\n",
       "      <td>{'$oid': '5a1321d5741a2384e802c552'}</td>\n",
       "      <td>A3HVRXV0LVJN7</td>\n",
       "      <td>0110400550</td>\n",
       "      <td>BiancaNicole</td>\n",
       "      <td>[4, 4]</td>\n",
       "      <td>Best phone case ever . Everywhere I go I get a...</td>\n",
       "      <td>5</td>\n",
       "      <td>A++++</td>\n",
       "      <td>1358035200</td>\n",
       "      <td>01 13, 2013</td>\n",
       "      <td>Cell_Phones_and_Accessories</td>\n",
       "      <td>1</td>\n",
       "    </tr>\n",
       "    <tr>\n",
       "      <th>1</th>\n",
       "      <td>{'$oid': '5a1321d5741a2384e802c557'}</td>\n",
       "      <td>A1BJGDS0L1IO6I</td>\n",
       "      <td>0110400550</td>\n",
       "      <td>cf \"t\"</td>\n",
       "      <td>[0, 3]</td>\n",
       "      <td>ITEM NOT SENT from Blue Top Company in Hong Ko...</td>\n",
       "      <td>1</td>\n",
       "      <td>ITEM NOT SENT!!</td>\n",
       "      <td>1359504000</td>\n",
       "      <td>01 30, 2013</td>\n",
       "      <td>Cell_Phones_and_Accessories</td>\n",
       "      <td>0</td>\n",
       "    </tr>\n",
       "    <tr>\n",
       "      <th>2</th>\n",
       "      <td>{'$oid': '5a1321d5741a2384e802c550'}</td>\n",
       "      <td>A1YX2RBMS1L9L</td>\n",
       "      <td>0110400550</td>\n",
       "      <td>Andrea Busch</td>\n",
       "      <td>[0, 0]</td>\n",
       "      <td>Saw this same case at a theme park store for 2...</td>\n",
       "      <td>5</td>\n",
       "      <td>Great product</td>\n",
       "      <td>1353542400</td>\n",
       "      <td>11 22, 2012</td>\n",
       "      <td>Cell_Phones_and_Accessories</td>\n",
       "      <td>1</td>\n",
       "    </tr>\n",
       "    <tr>\n",
       "      <th>3</th>\n",
       "      <td>{'$oid': '5a1321d5741a2384e802c553'}</td>\n",
       "      <td>A180NNPPKWCCU0</td>\n",
       "      <td>0110400550</td>\n",
       "      <td>Aniya pennington</td>\n",
       "      <td>[3, 3]</td>\n",
       "      <td>case fits perfectly and I always gets complime...</td>\n",
       "      <td>5</td>\n",
       "      <td>Perfect</td>\n",
       "      <td>1374105600</td>\n",
       "      <td>07 18, 2013</td>\n",
       "      <td>Cell_Phones_and_Accessories</td>\n",
       "      <td>1</td>\n",
       "    </tr>\n",
       "    <tr>\n",
       "      <th>4</th>\n",
       "      <td>{'$oid': '5a1321d5741a2384e802c559'}</td>\n",
       "      <td>A30P2CYOUYAJM8</td>\n",
       "      <td>0110400550</td>\n",
       "      <td>Gene</td>\n",
       "      <td>[1, 1]</td>\n",
       "      <td>I got this for my 14 year old sister.  She lov...</td>\n",
       "      <td>4</td>\n",
       "      <td>Cool purchase.</td>\n",
       "      <td>1363737600</td>\n",
       "      <td>03 20, 2013</td>\n",
       "      <td>Cell_Phones_and_Accessories</td>\n",
       "      <td>1</td>\n",
       "    </tr>\n",
       "  </tbody>\n",
       "</table>\n",
       "</div>"
      ],
      "text/plain": [
       "                                    _id      reviewerID        asin  \\\n",
       "0  {'$oid': '5a1321d5741a2384e802c552'}   A3HVRXV0LVJN7  0110400550   \n",
       "1  {'$oid': '5a1321d5741a2384e802c557'}  A1BJGDS0L1IO6I  0110400550   \n",
       "2  {'$oid': '5a1321d5741a2384e802c550'}   A1YX2RBMS1L9L  0110400550   \n",
       "3  {'$oid': '5a1321d5741a2384e802c553'}  A180NNPPKWCCU0  0110400550   \n",
       "4  {'$oid': '5a1321d5741a2384e802c559'}  A30P2CYOUYAJM8  0110400550   \n",
       "\n",
       "       reviewerName helpful  \\\n",
       "0      BiancaNicole  [4, 4]   \n",
       "1            cf \"t\"  [0, 3]   \n",
       "2      Andrea Busch  [0, 0]   \n",
       "3  Aniya pennington  [3, 3]   \n",
       "4              Gene  [1, 1]   \n",
       "\n",
       "                                          reviewText  overall  \\\n",
       "0  Best phone case ever . Everywhere I go I get a...        5   \n",
       "1  ITEM NOT SENT from Blue Top Company in Hong Ko...        1   \n",
       "2  Saw this same case at a theme park store for 2...        5   \n",
       "3  case fits perfectly and I always gets complime...        5   \n",
       "4  I got this for my 14 year old sister.  She lov...        4   \n",
       "\n",
       "           summary  unixReviewTime   reviewTime                     category  \\\n",
       "0            A++++      1358035200  01 13, 2013  Cell_Phones_and_Accessories   \n",
       "1  ITEM NOT SENT!!      1359504000  01 30, 2013  Cell_Phones_and_Accessories   \n",
       "2    Great product      1353542400  11 22, 2012  Cell_Phones_and_Accessories   \n",
       "3          Perfect      1374105600  07 18, 2013  Cell_Phones_and_Accessories   \n",
       "4   Cool purchase.      1363737600  03 20, 2013  Cell_Phones_and_Accessories   \n",
       "\n",
       "   class  \n",
       "0      1  \n",
       "1      0  \n",
       "2      1  \n",
       "3      1  \n",
       "4      1  "
      ]
     },
     "execution_count": 40,
     "metadata": {},
     "output_type": "execute_result"
    }
   ],
   "source": [
    "Cell_phones.head()"
   ]
  },
  {
   "cell_type": "code",
   "execution_count": 41,
   "id": "17af0539",
   "metadata": {
    "scrolled": true
   },
   "outputs": [
    {
     "name": "stdout",
     "output_type": "stream",
     "text": [
      "<class 'pandas.core.frame.DataFrame'>\n",
      "RangeIndex: 3185845 entries, 0 to 3185844\n",
      "Data columns (total 12 columns):\n",
      " #   Column          Dtype \n",
      "---  ------          ----- \n",
      " 0   _id             object\n",
      " 1   reviewerID      object\n",
      " 2   asin            object\n",
      " 3   reviewerName    object\n",
      " 4   helpful         object\n",
      " 5   reviewText      object\n",
      " 6   overall         int64 \n",
      " 7   summary         object\n",
      " 8   unixReviewTime  int64 \n",
      " 9   reviewTime      object\n",
      " 10  category        object\n",
      " 11  class           int64 \n",
      "dtypes: int64(3), object(9)\n",
      "memory usage: 291.7+ MB\n"
     ]
    }
   ],
   "source": [
    "Cell_phones.info()"
   ]
  },
  {
   "cell_type": "code",
   "execution_count": 42,
   "id": "3de5d9e1",
   "metadata": {},
   "outputs": [],
   "source": [
    "Cell_phones['unixReviewTime'] = pd.to_datetime(Cell_phones['unixReviewTime'],unit='s')"
   ]
  },
  {
   "cell_type": "code",
   "execution_count": 43,
   "id": "9fe40b1e",
   "metadata": {},
   "outputs": [],
   "source": [
    "Cell_phones= Cell_phones.rename(columns={'overall': 'Product_rating'})\n",
    "Cell_phones= Cell_phones.rename(columns={'helpful': 'Review_rating'}) \n",
    "Cell_phones= Cell_phones.rename(columns={'reviewerName': 'Reviewer_name'})\n",
    "Cell_phones= Cell_phones.rename(columns={'asin': 'Product_Id'})\n",
    "Cell_phones= Cell_phones.rename(columns={'unixReviewTime': 'Time_of_review'})          "
   ]
  },
  {
   "cell_type": "code",
   "execution_count": 44,
   "id": "cdfe69b2",
   "metadata": {},
   "outputs": [],
   "source": [
    "Cell_phones.drop('reviewTime',axis=1,inplace=True)\n",
    "Cell_phones.drop('_id',axis=1,inplace=True)\n",
    "Cell_phones.drop('reviewerID',axis=1,inplace=True)\n"
   ]
  },
  {
   "cell_type": "code",
   "execution_count": 30,
   "id": "933076a8",
   "metadata": {},
   "outputs": [
    {
     "data": {
      "text/html": [
       "<div>\n",
       "<style scoped>\n",
       "    .dataframe tbody tr th:only-of-type {\n",
       "        vertical-align: middle;\n",
       "    }\n",
       "\n",
       "    .dataframe tbody tr th {\n",
       "        vertical-align: top;\n",
       "    }\n",
       "\n",
       "    .dataframe thead th {\n",
       "        text-align: right;\n",
       "    }\n",
       "</style>\n",
       "<table border=\"1\" class=\"dataframe\">\n",
       "  <thead>\n",
       "    <tr style=\"text-align: right;\">\n",
       "      <th></th>\n",
       "      <th>Product_Id</th>\n",
       "      <th>Reviewer_name</th>\n",
       "      <th>Review_rating</th>\n",
       "      <th>reviewText</th>\n",
       "      <th>Product_rating</th>\n",
       "      <th>summary</th>\n",
       "      <th>Time_of_review</th>\n",
       "      <th>category</th>\n",
       "      <th>class</th>\n",
       "    </tr>\n",
       "  </thead>\n",
       "  <tbody>\n",
       "    <tr>\n",
       "      <th>0</th>\n",
       "      <td>0110400550</td>\n",
       "      <td>BiancaNicole</td>\n",
       "      <td>[4, 4]</td>\n",
       "      <td>Best phone case ever . Everywhere I go I get a...</td>\n",
       "      <td>5</td>\n",
       "      <td>A++++</td>\n",
       "      <td>2013-01-13</td>\n",
       "      <td>Cell_Phones_and_Accessories</td>\n",
       "      <td>1</td>\n",
       "    </tr>\n",
       "    <tr>\n",
       "      <th>1</th>\n",
       "      <td>0110400550</td>\n",
       "      <td>cf \"t\"</td>\n",
       "      <td>[0, 3]</td>\n",
       "      <td>ITEM NOT SENT from Blue Top Company in Hong Ko...</td>\n",
       "      <td>1</td>\n",
       "      <td>ITEM NOT SENT!!</td>\n",
       "      <td>2013-01-30</td>\n",
       "      <td>Cell_Phones_and_Accessories</td>\n",
       "      <td>0</td>\n",
       "    </tr>\n",
       "    <tr>\n",
       "      <th>2</th>\n",
       "      <td>0110400550</td>\n",
       "      <td>Andrea Busch</td>\n",
       "      <td>[0, 0]</td>\n",
       "      <td>Saw this same case at a theme park store for 2...</td>\n",
       "      <td>5</td>\n",
       "      <td>Great product</td>\n",
       "      <td>2012-11-22</td>\n",
       "      <td>Cell_Phones_and_Accessories</td>\n",
       "      <td>1</td>\n",
       "    </tr>\n",
       "    <tr>\n",
       "      <th>3</th>\n",
       "      <td>0110400550</td>\n",
       "      <td>Aniya pennington</td>\n",
       "      <td>[3, 3]</td>\n",
       "      <td>case fits perfectly and I always gets complime...</td>\n",
       "      <td>5</td>\n",
       "      <td>Perfect</td>\n",
       "      <td>2013-07-18</td>\n",
       "      <td>Cell_Phones_and_Accessories</td>\n",
       "      <td>1</td>\n",
       "    </tr>\n",
       "    <tr>\n",
       "      <th>4</th>\n",
       "      <td>0110400550</td>\n",
       "      <td>Gene</td>\n",
       "      <td>[1, 1]</td>\n",
       "      <td>I got this for my 14 year old sister.  She lov...</td>\n",
       "      <td>4</td>\n",
       "      <td>Cool purchase.</td>\n",
       "      <td>2013-03-20</td>\n",
       "      <td>Cell_Phones_and_Accessories</td>\n",
       "      <td>1</td>\n",
       "    </tr>\n",
       "  </tbody>\n",
       "</table>\n",
       "</div>"
      ],
      "text/plain": [
       "   Product_Id     Reviewer_name Review_rating  \\\n",
       "0  0110400550      BiancaNicole        [4, 4]   \n",
       "1  0110400550            cf \"t\"        [0, 3]   \n",
       "2  0110400550      Andrea Busch        [0, 0]   \n",
       "3  0110400550  Aniya pennington        [3, 3]   \n",
       "4  0110400550              Gene        [1, 1]   \n",
       "\n",
       "                                          reviewText  Product_rating  \\\n",
       "0  Best phone case ever . Everywhere I go I get a...               5   \n",
       "1  ITEM NOT SENT from Blue Top Company in Hong Ko...               1   \n",
       "2  Saw this same case at a theme park store for 2...               5   \n",
       "3  case fits perfectly and I always gets complime...               5   \n",
       "4  I got this for my 14 year old sister.  She lov...               4   \n",
       "\n",
       "           summary Time_of_review                     category  class  \n",
       "0            A++++     2013-01-13  Cell_Phones_and_Accessories      1  \n",
       "1  ITEM NOT SENT!!     2013-01-30  Cell_Phones_and_Accessories      0  \n",
       "2    Great product     2012-11-22  Cell_Phones_and_Accessories      1  \n",
       "3          Perfect     2013-07-18  Cell_Phones_and_Accessories      1  \n",
       "4   Cool purchase.     2013-03-20  Cell_Phones_and_Accessories      1  "
      ]
     },
     "execution_count": 30,
     "metadata": {},
     "output_type": "execute_result"
    }
   ],
   "source": [
    "Cell_phones.head()"
   ]
  },
  {
   "cell_type": "code",
   "execution_count": 46,
   "id": "df573969",
   "metadata": {},
   "outputs": [
    {
     "data": {
      "text/plain": [
       "(3185845, 9)"
      ]
     },
     "execution_count": 46,
     "metadata": {},
     "output_type": "execute_result"
    }
   ],
   "source": [
    "Cell_phones.shape"
   ]
  },
  {
   "cell_type": "code",
   "execution_count": 45,
   "id": "42464599",
   "metadata": {},
   "outputs": [
    {
     "name": "stdout",
     "output_type": "stream",
     "text": [
      "Product_Id            0\n",
      "Reviewer_name     35568\n",
      "Review_rating         0\n",
      "reviewText            0\n",
      "Product_rating        0\n",
      "summary               0\n",
      "Time_of_review        0\n",
      "category              0\n",
      "class                 0\n",
      "dtype: int64\n"
     ]
    }
   ],
   "source": [
    "null_count = Cell_phones.isnull().sum()\n",
    "print(null_count)"
   ]
  },
  {
   "cell_type": "code",
   "execution_count": 53,
   "id": "c95e43d6",
   "metadata": {},
   "outputs": [
    {
     "data": {
      "text/plain": [
       "class\n",
       "0    930859\n",
       "1    930859\n",
       "dtype: int64"
      ]
     },
     "execution_count": 53,
     "metadata": {},
     "output_type": "execute_result"
    }
   ],
   "source": [
    "Cell_phones.value_counts('class')"
   ]
  },
  {
   "cell_type": "code",
   "execution_count": 48,
   "id": "6509a47c",
   "metadata": {},
   "outputs": [],
   "source": [
    "Cell_phones_sample_1 = Cell_phones[Cell_phones['class'] == 1].sample(930859)"
   ]
  },
  {
   "cell_type": "code",
   "execution_count": 51,
   "id": "24732c81",
   "metadata": {},
   "outputs": [
    {
     "data": {
      "text/plain": [
       "class\n",
       "0    930859\n",
       "dtype: int64"
      ]
     },
     "execution_count": 51,
     "metadata": {},
     "output_type": "execute_result"
    }
   ],
   "source": [
    "Cell_phones_sample_0.value_counts('class')"
   ]
  },
  {
   "cell_type": "code",
   "execution_count": 50,
   "id": "e6d28073",
   "metadata": {},
   "outputs": [],
   "source": [
    "Cell_phones_sample_0 = Cell_phones[Cell_phones['class'] == 0].sample(930859)"
   ]
  },
  {
   "cell_type": "code",
   "execution_count": 52,
   "id": "5a89b87f",
   "metadata": {},
   "outputs": [
    {
     "name": "stderr",
     "output_type": "stream",
     "text": [
      "C:\\Users\\hp\\AppData\\Local\\Temp\\ipykernel_27532\\806766823.py:1: FutureWarning: The frame.append method is deprecated and will be removed from pandas in a future version. Use pandas.concat instead.\n",
      "  Cell_phones =Cell_phones_sample_0.append(Cell_phones_sample_1, ignore_index=True)\n"
     ]
    }
   ],
   "source": [
    "Cell_phones =Cell_phones_sample_0.append(Cell_phones_sample_1, ignore_index=True)"
   ]
  },
  {
   "cell_type": "code",
   "execution_count": 55,
   "id": "b99acf3c",
   "metadata": {},
   "outputs": [],
   "source": [
    "Cell_phones['reviewText'] = Cell_phones['reviewText'].str.lower()"
   ]
  },
  {
   "cell_type": "code",
   "execution_count": 56,
   "id": "441289e7",
   "metadata": {},
   "outputs": [],
   "source": [
    "Cell_phones.to_csv('C:/Users/hp/Desktop/AIDI/CAPSTONE/cleaned_data/Cell_phones_and_Accessories.csv', index=False)"
   ]
  },
  {
   "cell_type": "code",
   "execution_count": null,
   "id": "b290a794",
   "metadata": {},
   "outputs": [],
   "source": []
  }
 ],
 "metadata": {
  "kernelspec": {
   "display_name": "Python 3 (ipykernel)",
   "language": "python",
   "name": "python3"
  },
  "language_info": {
   "codemirror_mode": {
    "name": "ipython",
    "version": 3
   },
   "file_extension": ".py",
   "mimetype": "text/x-python",
   "name": "python",
   "nbconvert_exporter": "python",
   "pygments_lexer": "ipython3",
   "version": "3.9.12"
  }
 },
 "nbformat": 4,
 "nbformat_minor": 5
}
