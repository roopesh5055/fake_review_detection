{
 "cells": [
  {
   "cell_type": "code",
   "execution_count": 1,
   "id": "ed80a06f",
   "metadata": {},
   "outputs": [],
   "source": [
    " import pandas as pd\n",
    "import numpy as np\n",
    "from sklearn import preprocessing\n",
    "import os\n",
    "\n",
    "Home = pd.read_json('C:/Users/hp/Desktop/AIDI/CAPSTONE/Dataset/json files/Home_and_Kitchen.json', lines=True)"
   ]
  },
  {
   "cell_type": "code",
   "execution_count": 2,
   "id": "7f4ce514",
   "metadata": {},
   "outputs": [
    {
     "data": {
      "text/plain": [
       "(3988482, 12)"
      ]
     },
     "execution_count": 2,
     "metadata": {},
     "output_type": "execute_result"
    }
   ],
   "source": [
    "Home.shape\n"
   ]
  },
  {
   "cell_type": "code",
   "execution_count": 3,
   "id": "232259de",
   "metadata": {},
   "outputs": [
    {
     "data": {
      "text/html": [
       "<div>\n",
       "<style scoped>\n",
       "    .dataframe tbody tr th:only-of-type {\n",
       "        vertical-align: middle;\n",
       "    }\n",
       "\n",
       "    .dataframe tbody tr th {\n",
       "        vertical-align: top;\n",
       "    }\n",
       "\n",
       "    .dataframe thead th {\n",
       "        text-align: right;\n",
       "    }\n",
       "</style>\n",
       "<table border=\"1\" class=\"dataframe\">\n",
       "  <thead>\n",
       "    <tr style=\"text-align: right;\">\n",
       "      <th></th>\n",
       "      <th>_id</th>\n",
       "      <th>reviewerID</th>\n",
       "      <th>asin</th>\n",
       "      <th>reviewerName</th>\n",
       "      <th>helpful</th>\n",
       "      <th>reviewText</th>\n",
       "      <th>overall</th>\n",
       "      <th>summary</th>\n",
       "      <th>unixReviewTime</th>\n",
       "      <th>reviewTime</th>\n",
       "      <th>category</th>\n",
       "      <th>class</th>\n",
       "    </tr>\n",
       "  </thead>\n",
       "  <tbody>\n",
       "    <tr>\n",
       "      <th>0</th>\n",
       "      <td>{'$oid': '5a1325b9741a2384e80424d4'}</td>\n",
       "      <td>A7J0XOW7DYBBD</td>\n",
       "      <td>0307394530</td>\n",
       "      <td>Allan Mar Cariaso</td>\n",
       "      <td>[0, 0]</td>\n",
       "      <td>Can't wait to try all the amazing techniques. ...</td>\n",
       "      <td>5</td>\n",
       "      <td>Very helpful</td>\n",
       "      <td>1393113600</td>\n",
       "      <td>02 23, 2014</td>\n",
       "      <td>Home_and_Kitchen</td>\n",
       "      <td>1</td>\n",
       "    </tr>\n",
       "    <tr>\n",
       "      <th>1</th>\n",
       "      <td>{'$oid': '5a1325b9741a2384e80424d1'}</td>\n",
       "      <td>A28ILV4TOG8BH2</td>\n",
       "      <td>0130350591</td>\n",
       "      <td>ccjensen</td>\n",
       "      <td>[0, 0]</td>\n",
       "      <td>The butter dish is serving us well, and keepin...</td>\n",
       "      <td>5</td>\n",
       "      <td>Nice looking, and keeps the butter fresh</td>\n",
       "      <td>1300752000</td>\n",
       "      <td>03 22, 2011</td>\n",
       "      <td>Home_and_Kitchen</td>\n",
       "      <td>1</td>\n",
       "    </tr>\n",
       "    <tr>\n",
       "      <th>2</th>\n",
       "      <td>{'$oid': '5a1325b9741a2384e80424d2'}</td>\n",
       "      <td>A31B4D7URW4DNZ</td>\n",
       "      <td>0307394530</td>\n",
       "      <td>3Gigi3</td>\n",
       "      <td>[11, 16]</td>\n",
       "      <td>I anxiously waited for the book I had pre orde...</td>\n",
       "      <td>2</td>\n",
       "      <td>Mother of the Bride</td>\n",
       "      <td>1214784000</td>\n",
       "      <td>06 30, 2008</td>\n",
       "      <td>Home_and_Kitchen</td>\n",
       "      <td>0</td>\n",
       "    </tr>\n",
       "    <tr>\n",
       "      <th>3</th>\n",
       "      <td>{'$oid': '5a1325b9741a2384e80424d3'}</td>\n",
       "      <td>A2HU0RPDRZZOP1</td>\n",
       "      <td>0307394530</td>\n",
       "      <td>Alexey Leontev</td>\n",
       "      <td>[0, 0]</td>\n",
       "      <td>Fantastic book, a lot of good, original recipe...</td>\n",
       "      <td>5</td>\n",
       "      <td>amazing book</td>\n",
       "      <td>1277337600</td>\n",
       "      <td>06 24, 2010</td>\n",
       "      <td>Home_and_Kitchen</td>\n",
       "      <td>1</td>\n",
       "    </tr>\n",
       "    <tr>\n",
       "      <th>4</th>\n",
       "      <td>{'$oid': '5a1325b9741a2384e80424d6'}</td>\n",
       "      <td>A2MGJ4CELCSG10</td>\n",
       "      <td>0307394530</td>\n",
       "      <td>Amber Owens</td>\n",
       "      <td>[0, 0]</td>\n",
       "      <td>I was so happy with my purchase, the book was ...</td>\n",
       "      <td>5</td>\n",
       "      <td>Pleased beyond my expectations!</td>\n",
       "      <td>1234137600</td>\n",
       "      <td>02 9, 2009</td>\n",
       "      <td>Home_and_Kitchen</td>\n",
       "      <td>1</td>\n",
       "    </tr>\n",
       "  </tbody>\n",
       "</table>\n",
       "</div>"
      ],
      "text/plain": [
       "                                    _id      reviewerID        asin  \\\n",
       "0  {'$oid': '5a1325b9741a2384e80424d4'}   A7J0XOW7DYBBD  0307394530   \n",
       "1  {'$oid': '5a1325b9741a2384e80424d1'}  A28ILV4TOG8BH2  0130350591   \n",
       "2  {'$oid': '5a1325b9741a2384e80424d2'}  A31B4D7URW4DNZ  0307394530   \n",
       "3  {'$oid': '5a1325b9741a2384e80424d3'}  A2HU0RPDRZZOP1  0307394530   \n",
       "4  {'$oid': '5a1325b9741a2384e80424d6'}  A2MGJ4CELCSG10  0307394530   \n",
       "\n",
       "        reviewerName   helpful  \\\n",
       "0  Allan Mar Cariaso    [0, 0]   \n",
       "1           ccjensen    [0, 0]   \n",
       "2             3Gigi3  [11, 16]   \n",
       "3     Alexey Leontev    [0, 0]   \n",
       "4        Amber Owens    [0, 0]   \n",
       "\n",
       "                                          reviewText  overall  \\\n",
       "0  Can't wait to try all the amazing techniques. ...        5   \n",
       "1  The butter dish is serving us well, and keepin...        5   \n",
       "2  I anxiously waited for the book I had pre orde...        2   \n",
       "3  Fantastic book, a lot of good, original recipe...        5   \n",
       "4  I was so happy with my purchase, the book was ...        5   \n",
       "\n",
       "                                    summary  unixReviewTime   reviewTime  \\\n",
       "0                              Very helpful      1393113600  02 23, 2014   \n",
       "1  Nice looking, and keeps the butter fresh      1300752000  03 22, 2011   \n",
       "2                       Mother of the Bride      1214784000  06 30, 2008   \n",
       "3                              amazing book      1277337600  06 24, 2010   \n",
       "4           Pleased beyond my expectations!      1234137600   02 9, 2009   \n",
       "\n",
       "           category  class  \n",
       "0  Home_and_Kitchen      1  \n",
       "1  Home_and_Kitchen      1  \n",
       "2  Home_and_Kitchen      0  \n",
       "3  Home_and_Kitchen      1  \n",
       "4  Home_and_Kitchen      1  "
      ]
     },
     "execution_count": 3,
     "metadata": {},
     "output_type": "execute_result"
    }
   ],
   "source": [
    "Home.head()"
   ]
  },
  {
   "cell_type": "code",
   "execution_count": 4,
   "id": "3ef3ea5b",
   "metadata": {},
   "outputs": [
    {
     "name": "stdout",
     "output_type": "stream",
     "text": [
      "<class 'pandas.core.frame.DataFrame'>\n",
      "RangeIndex: 3988482 entries, 0 to 3988481\n",
      "Data columns (total 12 columns):\n",
      " #   Column          Dtype \n",
      "---  ------          ----- \n",
      " 0   _id             object\n",
      " 1   reviewerID      object\n",
      " 2   asin            object\n",
      " 3   reviewerName    object\n",
      " 4   helpful         object\n",
      " 5   reviewText      object\n",
      " 6   overall         int64 \n",
      " 7   summary         object\n",
      " 8   unixReviewTime  int64 \n",
      " 9   reviewTime      object\n",
      " 10  category        object\n",
      " 11  class           int64 \n",
      "dtypes: int64(3), object(9)\n",
      "memory usage: 365.2+ MB\n"
     ]
    }
   ],
   "source": [
    "Home.info()"
   ]
  },
  {
   "cell_type": "code",
   "execution_count": 5,
   "id": "f487c949",
   "metadata": {},
   "outputs": [],
   "source": [
    "Home['unixReviewTime'] = pd.to_datetime(Home['unixReviewTime'],unit='s')"
   ]
  },
  {
   "cell_type": "code",
   "execution_count": 6,
   "id": "28d2fb5d",
   "metadata": {},
   "outputs": [],
   "source": [
    "Home= Home.rename(columns={'overall': 'Product_rating'})\n",
    "Home= Home.rename(columns={'helpful': 'Review_rating'}) \n",
    "Home= Home.rename(columns={'reviewerName': 'Reviewer_name'})\n",
    "Home= Home.rename(columns={'asin': 'Product_Id'})\n",
    "Home= Home.rename(columns={'unixReviewTime': 'Time_of_review'})          "
   ]
  },
  {
   "cell_type": "code",
   "execution_count": 7,
   "id": "12dcc9a3",
   "metadata": {},
   "outputs": [],
   "source": [
    "Home['reviewText'] = Home['reviewText'].str.lower()"
   ]
  },
  {
   "cell_type": "code",
   "execution_count": 8,
   "id": "9d95e049",
   "metadata": {},
   "outputs": [],
   "source": [
    "Home.drop('reviewTime',axis=1,inplace=True)\n",
    "Home.drop('_id',axis=1,inplace=True)\n",
    "Home.drop('reviewerID',axis=1,inplace=True)"
   ]
  },
  {
   "cell_type": "code",
   "execution_count": 9,
   "id": "80f151a0",
   "metadata": {},
   "outputs": [
    {
     "name": "stdout",
     "output_type": "stream",
     "text": [
      "Product_Id            0\n",
      "Reviewer_name     31282\n",
      "Review_rating         0\n",
      "reviewText            0\n",
      "Product_rating        0\n",
      "summary               0\n",
      "Time_of_review        0\n",
      "category              0\n",
      "class                 0\n",
      "dtype: int64\n"
     ]
    }
   ],
   "source": [
    "null_count = Home.isnull().sum()\n",
    "print(null_count)"
   ]
  },
  {
   "cell_type": "code",
   "execution_count": 10,
   "id": "4bfdbf6b",
   "metadata": {},
   "outputs": [
    {
     "data": {
      "text/plain": [
       "class\n",
       "1    3165285\n",
       "0     823197\n",
       "dtype: int64"
      ]
     },
     "execution_count": 10,
     "metadata": {},
     "output_type": "execute_result"
    }
   ],
   "source": [
    "Home.value_counts('class')"
   ]
  },
  {
   "cell_type": "code",
   "execution_count": 11,
   "id": "47adb3fb",
   "metadata": {},
   "outputs": [],
   "source": [
    "Home_sample_1 = Home[Home['class'] == 1].sample(823197)"
   ]
  },
  {
   "cell_type": "code",
   "execution_count": 12,
   "id": "200642be",
   "metadata": {},
   "outputs": [],
   "source": [
    "Home_sample_0 = Home[Home['class'] == 0].sample(823197)"
   ]
  },
  {
   "cell_type": "code",
   "execution_count": 13,
   "id": "bb0c812d",
   "metadata": {},
   "outputs": [
    {
     "name": "stderr",
     "output_type": "stream",
     "text": [
      "C:\\Users\\hp\\AppData\\Local\\Temp\\ipykernel_6880\\275931382.py:1: FutureWarning: The frame.append method is deprecated and will be removed from pandas in a future version. Use pandas.concat instead.\n",
      "  home1 = Home_sample_1.append(Home_sample_0)\n"
     ]
    }
   ],
   "source": [
    "home1 = Home_sample_1.append(Home_sample_0)"
   ]
  },
  {
   "cell_type": "code",
   "execution_count": 14,
   "id": "85b5b30e",
   "metadata": {},
   "outputs": [],
   "source": [
    "home1.to_csv('C:/Users/hp/Desktop/AIDI/CAPSTONE/cleaned_data/Home_and_Kitchen.csv', index=False)"
   ]
  },
  {
   "cell_type": "code",
   "execution_count": null,
   "id": "ffe3b9da",
   "metadata": {},
   "outputs": [],
   "source": []
  }
 ],
 "metadata": {
  "kernelspec": {
   "display_name": "Python 3 (ipykernel)",
   "language": "python",
   "name": "python3"
  },
  "language_info": {
   "codemirror_mode": {
    "name": "ipython",
    "version": 3
   },
   "file_extension": ".py",
   "mimetype": "text/x-python",
   "name": "python",
   "nbconvert_exporter": "python",
   "pygments_lexer": "ipython3",
   "version": "3.9.12"
  }
 },
 "nbformat": 4,
 "nbformat_minor": 5
}
