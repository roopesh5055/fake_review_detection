{
 "cells": [
  {
   "cell_type": "code",
   "execution_count": 1,
   "id": "b9b3b692",
   "metadata": {},
   "outputs": [],
   "source": [
    " import pandas as pd\n",
    "import numpy as np\n",
    "from sklearn import preprocessing\n",
    "import os\n",
    "\n",
    "Clothing = pd.read_json('C:/Users/hp/Desktop/AIDI/CAPSTONE/Dataset/json files/Clothing_Shoes_and_Jewelry.json', lines=True)"
   ]
  },
  {
   "cell_type": "code",
   "execution_count": 4,
   "id": "b8262ec3",
   "metadata": {},
   "outputs": [
    {
     "data": {
      "text/plain": [
       "(5504331, 12)"
      ]
     },
     "execution_count": 4,
     "metadata": {},
     "output_type": "execute_result"
    }
   ],
   "source": [
    "Clothing.shape"
   ]
  },
  {
   "cell_type": "code",
   "execution_count": 5,
   "id": "e6a26aa2",
   "metadata": {},
   "outputs": [
    {
     "data": {
      "text/html": [
       "<div>\n",
       "<style scoped>\n",
       "    .dataframe tbody tr th:only-of-type {\n",
       "        vertical-align: middle;\n",
       "    }\n",
       "\n",
       "    .dataframe tbody tr th {\n",
       "        vertical-align: top;\n",
       "    }\n",
       "\n",
       "    .dataframe thead th {\n",
       "        text-align: right;\n",
       "    }\n",
       "</style>\n",
       "<table border=\"1\" class=\"dataframe\">\n",
       "  <thead>\n",
       "    <tr style=\"text-align: right;\">\n",
       "      <th></th>\n",
       "      <th>_id</th>\n",
       "      <th>reviewerID</th>\n",
       "      <th>asin</th>\n",
       "      <th>reviewerName</th>\n",
       "      <th>helpful</th>\n",
       "      <th>reviewText</th>\n",
       "      <th>overall</th>\n",
       "      <th>summary</th>\n",
       "      <th>unixReviewTime</th>\n",
       "      <th>reviewTime</th>\n",
       "      <th>category</th>\n",
       "      <th>class</th>\n",
       "    </tr>\n",
       "  </thead>\n",
       "  <tbody>\n",
       "    <tr>\n",
       "      <th>0</th>\n",
       "      <td>{'$oid': '5a132293741a2384e8376cbc'}</td>\n",
       "      <td>A19PBP93OF896</td>\n",
       "      <td>0000031887</td>\n",
       "      <td>Alinna Satake \"Can't Stop Eating\"</td>\n",
       "      <td>[0, 1]</td>\n",
       "      <td>My 3-yr-old daughter received this as a gift f...</td>\n",
       "      <td>1</td>\n",
       "      <td>Tiny and Poorly Constructed!</td>\n",
       "      <td>1363824000</td>\n",
       "      <td>03 21, 2013</td>\n",
       "      <td>Clothing_Shoes_and_Jewelry</td>\n",
       "      <td>0</td>\n",
       "    </tr>\n",
       "    <tr>\n",
       "      <th>1</th>\n",
       "      <td>{'$oid': '5a132293741a2384e8376cb9'}</td>\n",
       "      <td>A2G0LNLN79Q6HR</td>\n",
       "      <td>0000031887</td>\n",
       "      <td>aj_18 \"Aj_18\"</td>\n",
       "      <td>[1, 1]</td>\n",
       "      <td>This was a really cute tutu the only problem i...</td>\n",
       "      <td>4</td>\n",
       "      <td>Really Cute but rather short.</td>\n",
       "      <td>1337990400</td>\n",
       "      <td>05 26, 2012</td>\n",
       "      <td>Clothing_Shoes_and_Jewelry</td>\n",
       "      <td>1</td>\n",
       "    </tr>\n",
       "    <tr>\n",
       "      <th>2</th>\n",
       "      <td>{'$oid': '5a132293741a2384e8376cba'}</td>\n",
       "      <td>A2XVJBSRI3SWDI</td>\n",
       "      <td>0000031887</td>\n",
       "      <td>abigail</td>\n",
       "      <td>[0, 0]</td>\n",
       "      <td>Perfect red tutu for the price. I baught it as...</td>\n",
       "      <td>5</td>\n",
       "      <td>Nice tutu</td>\n",
       "      <td>1383523200</td>\n",
       "      <td>11 4, 2013</td>\n",
       "      <td>Clothing_Shoes_and_Jewelry</td>\n",
       "      <td>1</td>\n",
       "    </tr>\n",
       "    <tr>\n",
       "      <th>3</th>\n",
       "      <td>{'$oid': '5a132293741a2384e8376cbd'}</td>\n",
       "      <td>A1P0IHU93EF9ZK</td>\n",
       "      <td>0000031887</td>\n",
       "      <td>Amanda</td>\n",
       "      <td>[0, 0]</td>\n",
       "      <td>Bought it for my daughters first birthday whic...</td>\n",
       "      <td>4</td>\n",
       "      <td>i love it</td>\n",
       "      <td>1390435200</td>\n",
       "      <td>01 23, 2014</td>\n",
       "      <td>Clothing_Shoes_and_Jewelry</td>\n",
       "      <td>1</td>\n",
       "    </tr>\n",
       "    <tr>\n",
       "      <th>4</th>\n",
       "      <td>{'$oid': '5a132293741a2384e8376cbe'}</td>\n",
       "      <td>A1KLRMWW2FWPL4</td>\n",
       "      <td>0000031887</td>\n",
       "      <td>Amazon Customer \"cameramom\"</td>\n",
       "      <td>[0, 0]</td>\n",
       "      <td>This is a great tutu and at a really great pri...</td>\n",
       "      <td>5</td>\n",
       "      <td>Great tutu-  not cheaply made</td>\n",
       "      <td>1297468800</td>\n",
       "      <td>02 12, 2011</td>\n",
       "      <td>Clothing_Shoes_and_Jewelry</td>\n",
       "      <td>1</td>\n",
       "    </tr>\n",
       "  </tbody>\n",
       "</table>\n",
       "</div>"
      ],
      "text/plain": [
       "                                    _id      reviewerID        asin  \\\n",
       "0  {'$oid': '5a132293741a2384e8376cbc'}   A19PBP93OF896  0000031887   \n",
       "1  {'$oid': '5a132293741a2384e8376cb9'}  A2G0LNLN79Q6HR  0000031887   \n",
       "2  {'$oid': '5a132293741a2384e8376cba'}  A2XVJBSRI3SWDI  0000031887   \n",
       "3  {'$oid': '5a132293741a2384e8376cbd'}  A1P0IHU93EF9ZK  0000031887   \n",
       "4  {'$oid': '5a132293741a2384e8376cbe'}  A1KLRMWW2FWPL4  0000031887   \n",
       "\n",
       "                        reviewerName helpful  \\\n",
       "0  Alinna Satake \"Can't Stop Eating\"  [0, 1]   \n",
       "1                      aj_18 \"Aj_18\"  [1, 1]   \n",
       "2                            abigail  [0, 0]   \n",
       "3                             Amanda  [0, 0]   \n",
       "4        Amazon Customer \"cameramom\"  [0, 0]   \n",
       "\n",
       "                                          reviewText  overall  \\\n",
       "0  My 3-yr-old daughter received this as a gift f...        1   \n",
       "1  This was a really cute tutu the only problem i...        4   \n",
       "2  Perfect red tutu for the price. I baught it as...        5   \n",
       "3  Bought it for my daughters first birthday whic...        4   \n",
       "4  This is a great tutu and at a really great pri...        5   \n",
       "\n",
       "                         summary  unixReviewTime   reviewTime  \\\n",
       "0   Tiny and Poorly Constructed!      1363824000  03 21, 2013   \n",
       "1  Really Cute but rather short.      1337990400  05 26, 2012   \n",
       "2                      Nice tutu      1383523200   11 4, 2013   \n",
       "3                      i love it      1390435200  01 23, 2014   \n",
       "4  Great tutu-  not cheaply made      1297468800  02 12, 2011   \n",
       "\n",
       "                     category  class  \n",
       "0  Clothing_Shoes_and_Jewelry      0  \n",
       "1  Clothing_Shoes_and_Jewelry      1  \n",
       "2  Clothing_Shoes_and_Jewelry      1  \n",
       "3  Clothing_Shoes_and_Jewelry      1  \n",
       "4  Clothing_Shoes_and_Jewelry      1  "
      ]
     },
     "execution_count": 5,
     "metadata": {},
     "output_type": "execute_result"
    }
   ],
   "source": [
    "Clothing.head()"
   ]
  },
  {
   "cell_type": "code",
   "execution_count": 6,
   "id": "fb405b67",
   "metadata": {},
   "outputs": [
    {
     "name": "stdout",
     "output_type": "stream",
     "text": [
      "<class 'pandas.core.frame.DataFrame'>\n",
      "RangeIndex: 5504331 entries, 0 to 5504330\n",
      "Data columns (total 12 columns):\n",
      " #   Column          Dtype \n",
      "---  ------          ----- \n",
      " 0   _id             object\n",
      " 1   reviewerID      object\n",
      " 2   asin            object\n",
      " 3   reviewerName    object\n",
      " 4   helpful         object\n",
      " 5   reviewText      object\n",
      " 6   overall         int64 \n",
      " 7   summary         object\n",
      " 8   unixReviewTime  int64 \n",
      " 9   reviewTime      object\n",
      " 10  category        object\n",
      " 11  class           int64 \n",
      "dtypes: int64(3), object(9)\n",
      "memory usage: 503.9+ MB\n"
     ]
    }
   ],
   "source": [
    "Clothing.info()"
   ]
  },
  {
   "cell_type": "code",
   "execution_count": 7,
   "id": "aed2809e",
   "metadata": {},
   "outputs": [],
   "source": [
    "Clothing['unixReviewTime'] = pd.to_datetime(Clothing['unixReviewTime'],unit='s')"
   ]
  },
  {
   "cell_type": "code",
   "execution_count": 8,
   "id": "c20c1724",
   "metadata": {},
   "outputs": [],
   "source": [
    "Clothing= Clothing.rename(columns={'overall': 'Product_rating'})\n",
    "Clothing= Clothing.rename(columns={'helpful': 'Review_rating'}) \n",
    "Clothing= Clothing.rename(columns={'reviewerName': 'Reviewer_name'})\n",
    "Clothing= Clothing.rename(columns={'asin': 'Product_Id'})\n",
    "Clothing= Clothing.rename(columns={'unixReviewTime': 'Time_of_review'})          "
   ]
  },
  {
   "cell_type": "code",
   "execution_count": 9,
   "id": "ee524bc0",
   "metadata": {},
   "outputs": [],
   "source": [
    "Clothing['reviewText'] = Clothing['reviewText'].str.lower()"
   ]
  },
  {
   "cell_type": "code",
   "execution_count": 10,
   "id": "35eea73f",
   "metadata": {},
   "outputs": [],
   "source": [
    "Clothing.drop('reviewTime',axis=1,inplace=True)\n",
    "Clothing.drop('_id',axis=1,inplace=True)\n",
    "Clothing.drop('reviewerID',axis=1,inplace=True)"
   ]
  },
  {
   "cell_type": "code",
   "execution_count": 11,
   "id": "24086e34",
   "metadata": {},
   "outputs": [
    {
     "name": "stdout",
     "output_type": "stream",
     "text": [
      "Product_Id            0\n",
      "Reviewer_name     13180\n",
      "Review_rating         0\n",
      "reviewText            0\n",
      "Product_rating        0\n",
      "summary               0\n",
      "Time_of_review        0\n",
      "category              0\n",
      "class                 0\n",
      "dtype: int64\n"
     ]
    }
   ],
   "source": [
    "null_count = Clothing.isnull().sum()\n",
    "print(null_count)"
   ]
  },
  {
   "cell_type": "code",
   "execution_count": 16,
   "id": "fac12b82",
   "metadata": {},
   "outputs": [
    {
     "data": {
      "text/plain": [
       "class\n",
       "0    1169449\n",
       "1    1169449\n",
       "dtype: int64"
      ]
     },
     "execution_count": 16,
     "metadata": {},
     "output_type": "execute_result"
    }
   ],
   "source": [
    "Clothing.value_counts('class')"
   ]
  },
  {
   "cell_type": "code",
   "execution_count": 13,
   "id": "6e003ce4",
   "metadata": {},
   "outputs": [],
   "source": [
    "Clothing_sample_1 = Clothing[Clothing['class'] == 1].sample(1169449)"
   ]
  },
  {
   "cell_type": "code",
   "execution_count": 14,
   "id": "87a494af",
   "metadata": {},
   "outputs": [],
   "source": [
    "Clothing_sample_0 = Clothing[Clothing['class'] == 0].sample(1169449)"
   ]
  },
  {
   "cell_type": "code",
   "execution_count": 15,
   "id": "e6ab1249",
   "metadata": {},
   "outputs": [
    {
     "name": "stderr",
     "output_type": "stream",
     "text": [
      "C:\\Users\\hp\\AppData\\Local\\Temp\\ipykernel_22008\\421107758.py:1: FutureWarning: The frame.append method is deprecated and will be removed from pandas in a future version. Use pandas.concat instead.\n",
      "  Clothing =Clothing_sample_0.append(Clothing_sample_1, ignore_index=True)\n"
     ]
    }
   ],
   "source": [
    "Clothing =Clothing_sample_0.append(Clothing_sample_1, ignore_index=True)"
   ]
  },
  {
   "cell_type": "code",
   "execution_count": 17,
   "id": "e770636a",
   "metadata": {},
   "outputs": [],
   "source": [
    "Clothing.to_csv('C:/Users/hp/Desktop/AIDI/CAPSTONE/cleaned_data/Clothing_Shoes_and_Jewelry.csv', index=False)"
   ]
  },
  {
   "cell_type": "code",
   "execution_count": null,
   "id": "430d1099",
   "metadata": {},
   "outputs": [],
   "source": []
  }
 ],
 "metadata": {
  "kernelspec": {
   "display_name": "Python 3 (ipykernel)",
   "language": "python",
   "name": "python3"
  },
  "language_info": {
   "codemirror_mode": {
    "name": "ipython",
    "version": 3
   },
   "file_extension": ".py",
   "mimetype": "text/x-python",
   "name": "python",
   "nbconvert_exporter": "python",
   "pygments_lexer": "ipython3",
   "version": "3.9.12"
  }
 },
 "nbformat": 4,
 "nbformat_minor": 5
}
