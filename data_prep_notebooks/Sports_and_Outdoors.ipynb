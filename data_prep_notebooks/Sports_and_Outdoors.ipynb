{
 "cells": [
  {
   "cell_type": "code",
   "execution_count": 1,
   "id": "0fe3302a",
   "metadata": {},
   "outputs": [],
   "source": [
    " import pandas as pd\n",
    "import numpy as np\n",
    "from sklearn import preprocessing\n",
    "import os\n",
    "\n",
    "Sports = pd.read_json('C:/Users/hp/Desktop/AIDI/CAPSTONE/Dataset/json files/Sports_and_Outdoors.json', lines=True)"
   ]
  },
  {
   "cell_type": "code",
   "execution_count": 2,
   "id": "1881cfc0",
   "metadata": {},
   "outputs": [
    {
     "data": {
      "text/plain": [
       "(3013256, 12)"
      ]
     },
     "execution_count": 2,
     "metadata": {},
     "output_type": "execute_result"
    }
   ],
   "source": [
    "Sports.shape"
   ]
  },
  {
   "cell_type": "code",
   "execution_count": 3,
   "id": "e357d4dd",
   "metadata": {},
   "outputs": [
    {
     "data": {
      "text/html": [
       "<div>\n",
       "<style scoped>\n",
       "    .dataframe tbody tr th:only-of-type {\n",
       "        vertical-align: middle;\n",
       "    }\n",
       "\n",
       "    .dataframe tbody tr th {\n",
       "        vertical-align: top;\n",
       "    }\n",
       "\n",
       "    .dataframe thead th {\n",
       "        text-align: right;\n",
       "    }\n",
       "</style>\n",
       "<table border=\"1\" class=\"dataframe\">\n",
       "  <thead>\n",
       "    <tr style=\"text-align: right;\">\n",
       "      <th></th>\n",
       "      <th>_id</th>\n",
       "      <th>reviewerID</th>\n",
       "      <th>asin</th>\n",
       "      <th>reviewerName</th>\n",
       "      <th>helpful</th>\n",
       "      <th>reviewText</th>\n",
       "      <th>overall</th>\n",
       "      <th>summary</th>\n",
       "      <th>unixReviewTime</th>\n",
       "      <th>reviewTime</th>\n",
       "      <th>category</th>\n",
       "      <th>class</th>\n",
       "    </tr>\n",
       "  </thead>\n",
       "  <tbody>\n",
       "    <tr>\n",
       "      <th>0</th>\n",
       "      <td>{'$oid': '5a132768741a2384e847b8ed'}</td>\n",
       "      <td>A2PAVURT4NOHE1</td>\n",
       "      <td>0000031852</td>\n",
       "      <td>Leah</td>\n",
       "      <td>[0, 0]</td>\n",
       "      <td>Bought it for a ballet tutu but it is being wo...</td>\n",
       "      <td>5</td>\n",
       "      <td>Super cute</td>\n",
       "      <td>1388361600</td>\n",
       "      <td>12 30, 2013</td>\n",
       "      <td>Sports_and_Outdoors</td>\n",
       "      <td>1</td>\n",
       "    </tr>\n",
       "    <tr>\n",
       "      <th>1</th>\n",
       "      <td>{'$oid': '5a132768741a2384e847b8e9'}</td>\n",
       "      <td>A1SNLWGLFXD70K</td>\n",
       "      <td>0000031852</td>\n",
       "      <td>DEVA</td>\n",
       "      <td>[0, 0]</td>\n",
       "      <td>I origonally didn't get the item I ordered.  W...</td>\n",
       "      <td>4</td>\n",
       "      <td>Happy with purchase even though it came a lot ...</td>\n",
       "      <td>1392940800</td>\n",
       "      <td>02 21, 2014</td>\n",
       "      <td>Sports_and_Outdoors</td>\n",
       "      <td>1</td>\n",
       "    </tr>\n",
       "    <tr>\n",
       "      <th>2</th>\n",
       "      <td>{'$oid': '5a132768741a2384e847b8ee'}</td>\n",
       "      <td>A3URQ0LXLV46E9</td>\n",
       "      <td>0000031852</td>\n",
       "      <td>shortyvee</td>\n",
       "      <td>[0, 0]</td>\n",
       "      <td>My daughter and her friends love the colors an...</td>\n",
       "      <td>4</td>\n",
       "      <td>zebralisous</td>\n",
       "      <td>1400544000</td>\n",
       "      <td>05 20, 2014</td>\n",
       "      <td>Sports_and_Outdoors</td>\n",
       "      <td>1</td>\n",
       "    </tr>\n",
       "    <tr>\n",
       "      <th>3</th>\n",
       "      <td>{'$oid': '5a132768741a2384e847b8ea'}</td>\n",
       "      <td>A1KJ4CVG87QW09</td>\n",
       "      <td>0000031852</td>\n",
       "      <td>Donna Carter-Scott</td>\n",
       "      <td>[0, 0]</td>\n",
       "      <td>Arrived very timely, cute grandbaby loves it. ...</td>\n",
       "      <td>4</td>\n",
       "      <td>Cute Tutu</td>\n",
       "      <td>1389657600</td>\n",
       "      <td>01 14, 2014</td>\n",
       "      <td>Sports_and_Outdoors</td>\n",
       "      <td>1</td>\n",
       "    </tr>\n",
       "    <tr>\n",
       "      <th>4</th>\n",
       "      <td>{'$oid': '5a132768741a2384e847b8eb'}</td>\n",
       "      <td>AA9ITO6ZLZW6</td>\n",
       "      <td>0000031852</td>\n",
       "      <td>Jazzy77</td>\n",
       "      <td>[0, 0]</td>\n",
       "      <td>My little girl just loves to wear this tutu be...</td>\n",
       "      <td>5</td>\n",
       "      <td>Versatile</td>\n",
       "      <td>1399507200</td>\n",
       "      <td>05 8, 2014</td>\n",
       "      <td>Sports_and_Outdoors</td>\n",
       "      <td>1</td>\n",
       "    </tr>\n",
       "  </tbody>\n",
       "</table>\n",
       "</div>"
      ],
      "text/plain": [
       "                                    _id      reviewerID        asin  \\\n",
       "0  {'$oid': '5a132768741a2384e847b8ed'}  A2PAVURT4NOHE1  0000031852   \n",
       "1  {'$oid': '5a132768741a2384e847b8e9'}  A1SNLWGLFXD70K  0000031852   \n",
       "2  {'$oid': '5a132768741a2384e847b8ee'}  A3URQ0LXLV46E9  0000031852   \n",
       "3  {'$oid': '5a132768741a2384e847b8ea'}  A1KJ4CVG87QW09  0000031852   \n",
       "4  {'$oid': '5a132768741a2384e847b8eb'}    AA9ITO6ZLZW6  0000031852   \n",
       "\n",
       "         reviewerName helpful  \\\n",
       "0                Leah  [0, 0]   \n",
       "1                DEVA  [0, 0]   \n",
       "2           shortyvee  [0, 0]   \n",
       "3  Donna Carter-Scott  [0, 0]   \n",
       "4             Jazzy77  [0, 0]   \n",
       "\n",
       "                                          reviewText  overall  \\\n",
       "0  Bought it for a ballet tutu but it is being wo...        5   \n",
       "1  I origonally didn't get the item I ordered.  W...        4   \n",
       "2  My daughter and her friends love the colors an...        4   \n",
       "3  Arrived very timely, cute grandbaby loves it. ...        4   \n",
       "4  My little girl just loves to wear this tutu be...        5   \n",
       "\n",
       "                                             summary  unixReviewTime  \\\n",
       "0                                         Super cute      1388361600   \n",
       "1  Happy with purchase even though it came a lot ...      1392940800   \n",
       "2                                        zebralisous      1400544000   \n",
       "3                                          Cute Tutu      1389657600   \n",
       "4                                          Versatile      1399507200   \n",
       "\n",
       "    reviewTime             category  class  \n",
       "0  12 30, 2013  Sports_and_Outdoors      1  \n",
       "1  02 21, 2014  Sports_and_Outdoors      1  \n",
       "2  05 20, 2014  Sports_and_Outdoors      1  \n",
       "3  01 14, 2014  Sports_and_Outdoors      1  \n",
       "4   05 8, 2014  Sports_and_Outdoors      1  "
      ]
     },
     "execution_count": 3,
     "metadata": {},
     "output_type": "execute_result"
    }
   ],
   "source": [
    "Sports.head()"
   ]
  },
  {
   "cell_type": "code",
   "execution_count": 4,
   "id": "2eb9df98",
   "metadata": {},
   "outputs": [
    {
     "name": "stdout",
     "output_type": "stream",
     "text": [
      "<class 'pandas.core.frame.DataFrame'>\n",
      "RangeIndex: 3013256 entries, 0 to 3013255\n",
      "Data columns (total 12 columns):\n",
      " #   Column          Dtype \n",
      "---  ------          ----- \n",
      " 0   _id             object\n",
      " 1   reviewerID      object\n",
      " 2   asin            object\n",
      " 3   reviewerName    object\n",
      " 4   helpful         object\n",
      " 5   reviewText      object\n",
      " 6   overall         int64 \n",
      " 7   summary         object\n",
      " 8   unixReviewTime  int64 \n",
      " 9   reviewTime      object\n",
      " 10  category        object\n",
      " 11  class           int64 \n",
      "dtypes: int64(3), object(9)\n",
      "memory usage: 275.9+ MB\n"
     ]
    }
   ],
   "source": [
    "Sports.info()"
   ]
  },
  {
   "cell_type": "code",
   "execution_count": 5,
   "id": "1a2cd13c",
   "metadata": {},
   "outputs": [],
   "source": [
    "Sports['unixReviewTime'] = pd.to_datetime(Sports['unixReviewTime'],unit='s')"
   ]
  },
  {
   "cell_type": "code",
   "execution_count": 6,
   "id": "64e34d9d",
   "metadata": {},
   "outputs": [],
   "source": [
    "Sports= Sports.rename(columns={'overall': 'Product_rating'})\n",
    "Sports= Sports.rename(columns={'helpful': 'Review_rating'}) \n",
    "Sports= Sports.rename(columns={'reviewerName': 'Reviewer_name'})\n",
    "Sports= Sports.rename(columns={'asin': 'Product_Id'})\n",
    "Sports= Sports.rename(columns={'unixReviewTime': 'Time_of_review'})          "
   ]
  },
  {
   "cell_type": "code",
   "execution_count": 7,
   "id": "6e2074ff",
   "metadata": {},
   "outputs": [],
   "source": [
    "Sports['reviewText'] = Sports['reviewText'].str.lower()"
   ]
  },
  {
   "cell_type": "code",
   "execution_count": 8,
   "id": "e8e0a118",
   "metadata": {},
   "outputs": [],
   "source": [
    "Sports.drop('reviewTime',axis=1,inplace=True)\n",
    "Sports.drop('_id',axis=1,inplace=True)\n",
    "Sports.drop('reviewerID',axis=1,inplace=True)"
   ]
  },
  {
   "cell_type": "code",
   "execution_count": 9,
   "id": "22cfb313",
   "metadata": {},
   "outputs": [
    {
     "name": "stdout",
     "output_type": "stream",
     "text": [
      "Product_Id            0\n",
      "Reviewer_name     12917\n",
      "Review_rating         0\n",
      "reviewText            0\n",
      "Product_rating        0\n",
      "summary               0\n",
      "Time_of_review        0\n",
      "category              0\n",
      "class                 0\n",
      "dtype: int64\n"
     ]
    }
   ],
   "source": [
    "null_count = Sports.isnull().sum()\n",
    "print(null_count)"
   ]
  },
  {
   "cell_type": "code",
   "execution_count": 10,
   "id": "be9e3607",
   "metadata": {},
   "outputs": [
    {
     "data": {
      "text/plain": [
       "class\n",
       "1    2481105\n",
       "0     532151\n",
       "dtype: int64"
      ]
     },
     "execution_count": 10,
     "metadata": {},
     "output_type": "execute_result"
    }
   ],
   "source": [
    "Sports.value_counts('class')"
   ]
  },
  {
   "cell_type": "code",
   "execution_count": 11,
   "id": "f9f7369e",
   "metadata": {},
   "outputs": [],
   "source": [
    "Sports_sample_1 = Sports[Sports['class'] == 1].sample(532151)"
   ]
  },
  {
   "cell_type": "code",
   "execution_count": 12,
   "id": "d3b0e32e",
   "metadata": {},
   "outputs": [],
   "source": [
    "Sports_sample_0 = Sports[Sports['class'] == 0].sample(532151)"
   ]
  },
  {
   "cell_type": "code",
   "execution_count": 13,
   "id": "f56245ab",
   "metadata": {},
   "outputs": [
    {
     "name": "stderr",
     "output_type": "stream",
     "text": [
      "C:\\Users\\hp\\AppData\\Local\\Temp\\ipykernel_19692\\848680200.py:1: FutureWarning: The frame.append method is deprecated and will be removed from pandas in a future version. Use pandas.concat instead.\n",
      "  sports1 = Sports_sample_1.append(Sports_sample_0)\n"
     ]
    }
   ],
   "source": [
    "sports1 = Sports_sample_1.append(Sports_sample_0)\n",
    "sports1.to_csv('C:/Users/hp/Desktop/AIDI/CAPSTONE/cleaned_data/Sports_and_Outdoors.csv', index=False)"
   ]
  },
  {
   "cell_type": "code",
   "execution_count": 13,
   "id": "d9b6d3a3",
   "metadata": {},
   "outputs": [],
   "source": [
    "# Sports.to_csv('C:/Users/hp/Desktop/AIDI/CAPSTONE/cleaned_data/Sports_and_Outdoors.csv', index=False)"
   ]
  },
  {
   "cell_type": "code",
   "execution_count": null,
   "id": "396d88a5",
   "metadata": {},
   "outputs": [],
   "source": []
  }
 ],
 "metadata": {
  "kernelspec": {
   "display_name": "Python 3 (ipykernel)",
   "language": "python",
   "name": "python3"
  },
  "language_info": {
   "codemirror_mode": {
    "name": "ipython",
    "version": 3
   },
   "file_extension": ".py",
   "mimetype": "text/x-python",
   "name": "python",
   "nbconvert_exporter": "python",
   "pygments_lexer": "ipython3",
   "version": "3.9.12"
  }
 },
 "nbformat": 4,
 "nbformat_minor": 5
}
