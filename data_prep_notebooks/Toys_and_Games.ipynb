{
 "cells": [
  {
   "cell_type": "code",
   "execution_count": 1,
   "id": "0fe3302a",
   "metadata": {},
   "outputs": [],
   "source": [
    " import pandas as pd\n",
    "import numpy as np\n",
    "from sklearn import preprocessing\n",
    "import os\n",
    "\n",
    "Toys = pd.read_json('C:/Users/hp/Desktop/AIDI/CAPSTONE/Dataset/json files/Toys_and_Games.json', lines=True)"
   ]
  },
  {
   "cell_type": "code",
   "execution_count": 2,
   "id": "1881cfc0",
   "metadata": {},
   "outputs": [
    {
     "data": {
      "text/plain": [
       "(1997140, 12)"
      ]
     },
     "execution_count": 2,
     "metadata": {},
     "output_type": "execute_result"
    }
   ],
   "source": [
    "Toys.shape"
   ]
  },
  {
   "cell_type": "code",
   "execution_count": 3,
   "id": "e357d4dd",
   "metadata": {},
   "outputs": [
    {
     "data": {
      "text/html": [
       "<div>\n",
       "<style scoped>\n",
       "    .dataframe tbody tr th:only-of-type {\n",
       "        vertical-align: middle;\n",
       "    }\n",
       "\n",
       "    .dataframe tbody tr th {\n",
       "        vertical-align: top;\n",
       "    }\n",
       "\n",
       "    .dataframe thead th {\n",
       "        text-align: right;\n",
       "    }\n",
       "</style>\n",
       "<table border=\"1\" class=\"dataframe\">\n",
       "  <thead>\n",
       "    <tr style=\"text-align: right;\">\n",
       "      <th></th>\n",
       "      <th>_id</th>\n",
       "      <th>reviewerID</th>\n",
       "      <th>asin</th>\n",
       "      <th>reviewerName</th>\n",
       "      <th>helpful</th>\n",
       "      <th>reviewText</th>\n",
       "      <th>overall</th>\n",
       "      <th>summary</th>\n",
       "      <th>unixReviewTime</th>\n",
       "      <th>reviewTime</th>\n",
       "      <th>category</th>\n",
       "      <th>class</th>\n",
       "    </tr>\n",
       "  </thead>\n",
       "  <tbody>\n",
       "    <tr>\n",
       "      <th>0</th>\n",
       "      <td>{'$oid': '5a13282b741a2384e879a620'}</td>\n",
       "      <td>A3C9CSW3TJITGT</td>\n",
       "      <td>0005069491</td>\n",
       "      <td>Renee</td>\n",
       "      <td>[0, 0]</td>\n",
       "      <td>I love these felt nursery rhyme characters and...</td>\n",
       "      <td>4</td>\n",
       "      <td>Charming characters but busy work required</td>\n",
       "      <td>1377561600</td>\n",
       "      <td>08 27, 2013</td>\n",
       "      <td>Toys_and_Games</td>\n",
       "      <td>1</td>\n",
       "    </tr>\n",
       "    <tr>\n",
       "      <th>1</th>\n",
       "      <td>{'$oid': '5a13282b741a2384e879a621'}</td>\n",
       "      <td>A31POTIYCKSZ9G</td>\n",
       "      <td>0076561046</td>\n",
       "      <td>So CA Teacher</td>\n",
       "      <td>[0, 0]</td>\n",
       "      <td>I see no directions for its use. Therefore I h...</td>\n",
       "      <td>3</td>\n",
       "      <td>No directions for use...</td>\n",
       "      <td>1404864000</td>\n",
       "      <td>07 9, 2014</td>\n",
       "      <td>Toys_and_Games</td>\n",
       "      <td>0</td>\n",
       "    </tr>\n",
       "    <tr>\n",
       "      <th>2</th>\n",
       "      <td>{'$oid': '5a13282b741a2384e879a622'}</td>\n",
       "      <td>A2GGHHME9B6W4O</td>\n",
       "      <td>0131358936</td>\n",
       "      <td>Dalilah G.</td>\n",
       "      <td>[0, 0]</td>\n",
       "      <td>This is a great tool for any teacher using the...</td>\n",
       "      <td>5</td>\n",
       "      <td>Great CD-ROM</td>\n",
       "      <td>1382400000</td>\n",
       "      <td>10 22, 2013</td>\n",
       "      <td>Toys_and_Games</td>\n",
       "      <td>1</td>\n",
       "    </tr>\n",
       "    <tr>\n",
       "      <th>3</th>\n",
       "      <td>{'$oid': '5a13282b741a2384e879a61f'}</td>\n",
       "      <td>AMEVO2LY6VEJA</td>\n",
       "      <td>0000191639</td>\n",
       "      <td>Nicole Soeder</td>\n",
       "      <td>[0, 0]</td>\n",
       "      <td>Great product, thank you! Our son loved the pu...</td>\n",
       "      <td>5</td>\n",
       "      <td>Puzzles</td>\n",
       "      <td>1388016000</td>\n",
       "      <td>12 26, 2013</td>\n",
       "      <td>Toys_and_Games</td>\n",
       "      <td>1</td>\n",
       "    </tr>\n",
       "    <tr>\n",
       "      <th>4</th>\n",
       "      <td>{'$oid': '5a13282b741a2384e879a623'}</td>\n",
       "      <td>A1FSLDH43ORWZP</td>\n",
       "      <td>0133642984</td>\n",
       "      <td>Dayna English</td>\n",
       "      <td>[0, 0]</td>\n",
       "      <td>Although not as streamlined as the Algebra I m...</td>\n",
       "      <td>5</td>\n",
       "      <td>Algebra II -- presentation materials</td>\n",
       "      <td>1374278400</td>\n",
       "      <td>07 20, 2013</td>\n",
       "      <td>Toys_and_Games</td>\n",
       "      <td>1</td>\n",
       "    </tr>\n",
       "  </tbody>\n",
       "</table>\n",
       "</div>"
      ],
      "text/plain": [
       "                                    _id      reviewerID        asin  \\\n",
       "0  {'$oid': '5a13282b741a2384e879a620'}  A3C9CSW3TJITGT  0005069491   \n",
       "1  {'$oid': '5a13282b741a2384e879a621'}  A31POTIYCKSZ9G  0076561046   \n",
       "2  {'$oid': '5a13282b741a2384e879a622'}  A2GGHHME9B6W4O  0131358936   \n",
       "3  {'$oid': '5a13282b741a2384e879a61f'}   AMEVO2LY6VEJA  0000191639   \n",
       "4  {'$oid': '5a13282b741a2384e879a623'}  A1FSLDH43ORWZP  0133642984   \n",
       "\n",
       "    reviewerName helpful                                         reviewText  \\\n",
       "0          Renee  [0, 0]  I love these felt nursery rhyme characters and...   \n",
       "1  So CA Teacher  [0, 0]  I see no directions for its use. Therefore I h...   \n",
       "2     Dalilah G.  [0, 0]  This is a great tool for any teacher using the...   \n",
       "3  Nicole Soeder  [0, 0]  Great product, thank you! Our son loved the pu...   \n",
       "4  Dayna English  [0, 0]  Although not as streamlined as the Algebra I m...   \n",
       "\n",
       "   overall                                     summary  unixReviewTime  \\\n",
       "0        4  Charming characters but busy work required      1377561600   \n",
       "1        3                    No directions for use...      1404864000   \n",
       "2        5                                Great CD-ROM      1382400000   \n",
       "3        5                                     Puzzles      1388016000   \n",
       "4        5        Algebra II -- presentation materials      1374278400   \n",
       "\n",
       "    reviewTime        category  class  \n",
       "0  08 27, 2013  Toys_and_Games      1  \n",
       "1   07 9, 2014  Toys_and_Games      0  \n",
       "2  10 22, 2013  Toys_and_Games      1  \n",
       "3  12 26, 2013  Toys_and_Games      1  \n",
       "4  07 20, 2013  Toys_and_Games      1  "
      ]
     },
     "execution_count": 3,
     "metadata": {},
     "output_type": "execute_result"
    }
   ],
   "source": [
    "Toys.head()"
   ]
  },
  {
   "cell_type": "code",
   "execution_count": 4,
   "id": "2eb9df98",
   "metadata": {},
   "outputs": [
    {
     "name": "stdout",
     "output_type": "stream",
     "text": [
      "<class 'pandas.core.frame.DataFrame'>\n",
      "RangeIndex: 1997140 entries, 0 to 1997139\n",
      "Data columns (total 12 columns):\n",
      " #   Column          Dtype \n",
      "---  ------          ----- \n",
      " 0   _id             object\n",
      " 1   reviewerID      object\n",
      " 2   asin            object\n",
      " 3   reviewerName    object\n",
      " 4   helpful         object\n",
      " 5   reviewText      object\n",
      " 6   overall         int64 \n",
      " 7   summary         object\n",
      " 8   unixReviewTime  int64 \n",
      " 9   reviewTime      object\n",
      " 10  category        object\n",
      " 11  class           int64 \n",
      "dtypes: int64(3), object(9)\n",
      "memory usage: 182.8+ MB\n"
     ]
    }
   ],
   "source": [
    "Toys.info()"
   ]
  },
  {
   "cell_type": "code",
   "execution_count": 5,
   "id": "1a2cd13c",
   "metadata": {},
   "outputs": [],
   "source": [
    "Toys['unixReviewTime'] = pd.to_datetime(Toys['unixReviewTime'],unit='s')"
   ]
  },
  {
   "cell_type": "code",
   "execution_count": 6,
   "id": "64e34d9d",
   "metadata": {},
   "outputs": [],
   "source": [
    "Toys= Toys.rename(columns={'overall': 'Product_rating'})\n",
    "Toys= Toys.rename(columns={'helpful': 'Review_rating'}) \n",
    "Toys= Toys.rename(columns={'reviewerName': 'Reviewer_name'})\n",
    "Toys= Toys.rename(columns={'asin': 'Product_Id'})\n",
    "Toys= Toys.rename(columns={'unixReviewTime': 'Time_of_review'})          "
   ]
  },
  {
   "cell_type": "code",
   "execution_count": 7,
   "id": "6e2074ff",
   "metadata": {},
   "outputs": [],
   "source": [
    "Toys['reviewText'] = Toys['reviewText'].str.lower()"
   ]
  },
  {
   "cell_type": "code",
   "execution_count": 8,
   "id": "e8e0a118",
   "metadata": {},
   "outputs": [],
   "source": [
    "Toys.drop('reviewTime',axis=1,inplace=True)\n",
    "Toys.drop('_id',axis=1,inplace=True)\n",
    "Toys.drop('reviewerID',axis=1,inplace=True)"
   ]
  },
  {
   "cell_type": "code",
   "execution_count": 9,
   "id": "22cfb313",
   "metadata": {},
   "outputs": [
    {
     "name": "stdout",
     "output_type": "stream",
     "text": [
      "Product_Id            0\n",
      "Reviewer_name     10782\n",
      "Review_rating         0\n",
      "reviewText            0\n",
      "Product_rating        0\n",
      "summary               0\n",
      "Time_of_review        0\n",
      "category              0\n",
      "class                 0\n",
      "dtype: int64\n"
     ]
    }
   ],
   "source": [
    "null_count = Toys.isnull().sum()\n",
    "print(null_count)"
   ]
  },
  {
   "cell_type": "code",
   "execution_count": 10,
   "id": "be9e3607",
   "metadata": {},
   "outputs": [
    {
     "data": {
      "text/plain": [
       "class\n",
       "1    1662754\n",
       "0     334386\n",
       "dtype: int64"
      ]
     },
     "execution_count": 10,
     "metadata": {},
     "output_type": "execute_result"
    }
   ],
   "source": [
    "Toys.value_counts('class')"
   ]
  },
  {
   "cell_type": "code",
   "execution_count": 11,
   "id": "f9f7369e",
   "metadata": {},
   "outputs": [],
   "source": [
    "Toys_sample_1 = Toys[Toys['class'] == 1].sample(334386)"
   ]
  },
  {
   "cell_type": "code",
   "execution_count": 12,
   "id": "d3b0e32e",
   "metadata": {},
   "outputs": [],
   "source": [
    "Toys_sample_0 = Toys[Toys['class'] == 0].sample(334386)"
   ]
  },
  {
   "cell_type": "code",
   "execution_count": 13,
   "id": "d563fb57",
   "metadata": {},
   "outputs": [
    {
     "name": "stderr",
     "output_type": "stream",
     "text": [
      "C:\\Users\\hp\\AppData\\Local\\Temp\\ipykernel_18712\\1974339770.py:1: FutureWarning: The frame.append method is deprecated and will be removed from pandas in a future version. Use pandas.concat instead.\n",
      "  toys1 = Toys_sample_1.append(Toys_sample_0)\n"
     ]
    }
   ],
   "source": [
    "toys1 = Toys_sample_1.append(Toys_sample_0)"
   ]
  },
  {
   "cell_type": "code",
   "execution_count": 14,
   "id": "d9b6d3a3",
   "metadata": {},
   "outputs": [],
   "source": [
    "toys1.to_csv('C:/Users/hp/Desktop/AIDI/CAPSTONE/cleaned_data/Toys_and_Games.csv', index=False)"
   ]
  },
  {
   "cell_type": "code",
   "execution_count": null,
   "id": "396d88a5",
   "metadata": {},
   "outputs": [],
   "source": []
  }
 ],
 "metadata": {
  "kernelspec": {
   "display_name": "Python 3 (ipykernel)",
   "language": "python",
   "name": "python3"
  },
  "language_info": {
   "codemirror_mode": {
    "name": "ipython",
    "version": 3
   },
   "file_extension": ".py",
   "mimetype": "text/x-python",
   "name": "python",
   "nbconvert_exporter": "python",
   "pygments_lexer": "ipython3",
   "version": "3.9.12"
  }
 },
 "nbformat": 4,
 "nbformat_minor": 5
}
