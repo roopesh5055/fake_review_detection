{
 "cells": [
  {
   "cell_type": "markdown",
   "id": "93429518",
   "metadata": {},
   "source": [
    "# TFIDF"
   ]
  },
  {
   "cell_type": "code",
   "execution_count": 1,
   "id": "19d04acd",
   "metadata": {},
   "outputs": [
    {
     "name": "stderr",
     "output_type": "stream",
     "text": [
      "C:\\Users\\hp\\anaconda3\\lib\\site-packages\\scipy\\__init__.py:146: UserWarning: A NumPy version >=1.16.5 and <1.23.0 is required for this version of SciPy (detected version 1.26.2\n",
      "  warnings.warn(f\"A NumPy version >={np_minversion} and <{np_maxversion}\"\n"
     ]
    }
   ],
   "source": [
    "import pandas as pd\n",
    "import numpy as np\n",
    "\n",
    "# feature engineering\n",
    "from sklearn.feature_extraction.text import TfidfVectorizer\n",
    "from sklearn.model_selection import train_test_split\n",
    "\n",
    "# models\n",
    "from sklearn.naive_bayes import MultinomialNB\n",
    "from sklearn.linear_model import LogisticRegression\n",
    "from sklearn.multiclass import OneVsRestClassifier\n",
    "from sklearn.svm import LinearSVC\n",
    "from sklearn.linear_model import Perceptron\n",
    "\n",
    "# metrics for evaluation\n",
    "from sklearn.metrics import jaccard_score\n",
    "from sklearn.metrics import hamming_loss\n",
    "from sklearn.metrics import confusion_matrix\n",
    "from sklearn.metrics import ConfusionMatrixDisplay\n",
    "import torch\n",
    "\n",
    "# visualization libs\n",
    "import seaborn as sns\n",
    "import matplotlib.pyplot as plt\n",
    "import matplotlib.pyplot as plt\n",
    "from matplotlib.pyplot import figure"
   ]
  },
  {
   "cell_type": "markdown",
   "id": "258b6803",
   "metadata": {},
   "source": [
    "## Feature Engineering"
   ]
  },
  {
   "cell_type": "code",
   "execution_count": 2,
   "id": "36784357",
   "metadata": {},
   "outputs": [
    {
     "name": "stderr",
     "output_type": "stream",
     "text": [
      "C:\\Users\\hp\\AppData\\Local\\Temp\\ipykernel_30000\\1250500672.py:1: DtypeWarning: Columns (9,10,11) have mixed types. Specify dtype option on import or set low_memory=False.\n",
      "  full_df = pd.read_csv(r'./cleaned_data/full_file.csv')\n"
     ]
    },
    {
     "data": {
      "text/html": [
       "<div>\n",
       "<style scoped>\n",
       "    .dataframe tbody tr th:only-of-type {\n",
       "        vertical-align: middle;\n",
       "    }\n",
       "\n",
       "    .dataframe tbody tr th {\n",
       "        vertical-align: top;\n",
       "    }\n",
       "\n",
       "    .dataframe thead th {\n",
       "        text-align: right;\n",
       "    }\n",
       "</style>\n",
       "<table border=\"1\" class=\"dataframe\">\n",
       "  <thead>\n",
       "    <tr style=\"text-align: right;\">\n",
       "      <th></th>\n",
       "      <th>reviewText</th>\n",
       "      <th>class</th>\n",
       "    </tr>\n",
       "  </thead>\n",
       "  <tbody>\n",
       "    <tr>\n",
       "      <th>2912307</th>\n",
       "      <td>the tie is nice enough, but once placed around...</td>\n",
       "      <td>0</td>\n",
       "    </tr>\n",
       "    <tr>\n",
       "      <th>348858</th>\n",
       "      <td>i liked the material and the color is beautifu...</td>\n",
       "      <td>0</td>\n",
       "    </tr>\n",
       "    <tr>\n",
       "      <th>2913658</th>\n",
       "      <td>these shoes smell so bad my whole house smelle...</td>\n",
       "      <td>0</td>\n",
       "    </tr>\n",
       "    <tr>\n",
       "      <th>7794441</th>\n",
       "      <td>just got them for my daughter. paid half of li...</td>\n",
       "      <td>1</td>\n",
       "    </tr>\n",
       "    <tr>\n",
       "      <th>8189690</th>\n",
       "      <td>it wraps great, looks great and is durable. i ...</td>\n",
       "      <td>1</td>\n",
       "    </tr>\n",
       "  </tbody>\n",
       "</table>\n",
       "</div>"
      ],
      "text/plain": [
       "                                                reviewText  class\n",
       "2912307  the tie is nice enough, but once placed around...      0\n",
       "348858   i liked the material and the color is beautifu...      0\n",
       "2913658  these shoes smell so bad my whole house smelle...      0\n",
       "7794441  just got them for my daughter. paid half of li...      1\n",
       "8189690  it wraps great, looks great and is durable. i ...      1"
      ]
     },
     "execution_count": 2,
     "metadata": {},
     "output_type": "execute_result"
    }
   ],
   "source": [
    "full_df = pd.read_csv(r'./cleaned_data/full_file.csv')\n",
    "full_df.head()\n",
    "\n",
    "full_df = full_df[['reviewText','class']].sample(2000000)\n",
    "full_df.head()"
   ]
  },
  {
   "cell_type": "code",
   "execution_count": 3,
   "id": "3cef9fd2",
   "metadata": {},
   "outputs": [],
   "source": [
    "vectorization = TfidfVectorizer(analyzer = 'word', min_df=0.0, max_features=512)\n",
    "reviews = full_df['reviewText'].to_list()\n",
    "X = vectorization.fit_transform(reviews).toarray()\n",
    "\n",
    "X_train, X_test, y_train, y_test = train_test_split(X, full_df['class'], test_size = 0.2, random_state = 0)"
   ]
  },
  {
   "cell_type": "code",
   "execution_count": 4,
   "id": "17760164",
   "metadata": {},
   "outputs": [],
   "source": [
    "# Convert to PyTorch tensors\n",
    "X_train_tfidf = torch.tensor(X_train, dtype=torch.float32)\n",
    "X_test_tfidf = torch.tensor(X_test, dtype=torch.float32)\n",
    "y_train_tfidf = torch.tensor(np.array(y_train), dtype=torch.float32)\n",
    "y_test_tfidf = torch.tensor(np.array(y_test), dtype=torch.float32)\n"
   ]
  },
  {
   "cell_type": "code",
   "execution_count": 5,
   "id": "6682f731",
   "metadata": {},
   "outputs": [],
   "source": [
    "import pickle\n",
    "\n",
    "# Save the model to a file using pickle\n",
    "with open(r'C:\\Users\\hp\\Desktop\\AIDI\\CAPSTONE\\results\\TFIDF_vectorization_v1.pkl', 'wb') as file:\n",
    "    pickle.dump(vectorization, file)\n",
    "    \n"
   ]
  },
  {
   "cell_type": "code",
   "execution_count": 6,
   "id": "6c540019",
   "metadata": {},
   "outputs": [],
   "source": [
    "def get_stats(y_pred, model_name):\n",
    "    jacard = round(jaccard_score(y_test, y_pred, average='samples') * 100, 4)\n",
    "    hamming = round(hamming_loss(y_pred, y_test) * 100, 4)\n",
    "    print(\"Results for \" + model_name)\n",
    "    print(\"Jacard score: \" + str(jacard))\n",
    "    print(\"Hamming loss: \" + str(hamming))\n",
    "    print()"
   ]
  },
  {
   "cell_type": "code",
   "execution_count": 7,
   "id": "41e26daf",
   "metadata": {},
   "outputs": [],
   "source": [
    "def binary_acc(y_pred, y_test):\n",
    "    y_pred_tag = torch.round(torch.sigmoid(y_pred))\n",
    "\n",
    "    correct_results_sum = (y_pred_tag == y_test).sum().float()\n",
    "    acc = correct_results_sum/y_test.shape[0]\n",
    "    acc = torch.round(acc * 100)\n",
    "    \n",
    "    return acc"
   ]
  },
  {
   "cell_type": "markdown",
   "id": "89745ff0",
   "metadata": {},
   "source": [
    "## Modeling"
   ]
  },
  {
   "cell_type": "code",
   "execution_count": 8,
   "id": "913ee23b",
   "metadata": {},
   "outputs": [],
   "source": [
    "from sklearn.metrics import classification_report, confusion_matrix\n",
    "import pandas as pd\n",
    "from sklearn.model_selection import train_test_split\n",
    "from transformers import BertTokenizer, BertModel\n",
    "import torch\n",
    "from torch.utils.data import TensorDataset, DataLoader\n",
    "import torch.nn as nn\n",
    "import torch.optim as optim\n",
    "from sklearn.metrics import accuracy_score"
   ]
  },
  {
   "cell_type": "code",
   "execution_count": 32,
   "id": "7b4388f5",
   "metadata": {},
   "outputs": [],
   "source": [
    "max_len = 512  # Set maximum sequence length\n",
    "batch_size = 8\n",
    "num_epochs = 10\n",
    "learning_rate = .0001\n",
    "input_size = X_train_tfidf.shape[1]"
   ]
  },
  {
   "cell_type": "code",
   "execution_count": 33,
   "id": "69e403fc",
   "metadata": {},
   "outputs": [],
   "source": [
    "\n",
    "# class SequentialModel(nn.Module):\n",
    "#     def __init__(self, input_dim):\n",
    "#         super(SequentialModel, self).__init__()\n",
    "#         self.linear = nn.Linear(input_dim, 1)  # Output dimension is 1 for binary classification\n",
    "\n",
    "#     def forward(self, x):\n",
    "#         out = torch.sigmoid(self.linear(x))  # Sigmoid activation for logistic regression\n",
    "#         return out\n",
    "    \n",
    "class SequentialModel(nn.Module):\n",
    "    def __init__(self, input_dim):\n",
    "        super(SequentialModel, self).__init__()\n",
    "        self.seq_model = nn.Sequential(\n",
    "            nn.Linear(input_size, 128, bias=False),\n",
    "            nn.Dropout(p=0.5),\n",
    "#             nn.Linear(256, 128),\n",
    "#             nn.BatchNorm1d(128),  # BatchNorm layer after the first linear layer\n",
    "            nn.ReLU(),\n",
    "#             nn.Dropout(p=0.2),\n",
    "            nn.Linear(128, 1),\n",
    "            nn.Sigmoid()\n",
    "        )\n",
    "\n",
    "    def forward(self, inputs):\n",
    "\n",
    "        return self.seq_model(inputs)\n",
    "\n",
    "# Instantiate the model\n",
    "model = SequentialModel(input_dim=max_len)\n",
    "\n",
    "# Move model to GPU if available\n",
    "device = torch.device('cuda' if torch.cuda.is_available() else 'cpu')\n",
    "# device = torch.device('cpu')\n",
    "model.to(device)\n",
    "\n",
    "# Define loss function and optimizer\n",
    "criterion = nn.BCELoss()\n",
    "optimizer = optim.Adam(model.parameters(), lr=learning_rate, weight_decay=1e-5)\n",
    "\n",
    "# Create DataLoaders\n",
    "train_loader = DataLoader(X_train, batch_size=batch_size, shuffle=True)\n",
    "test_loader = DataLoader(X_test, batch_size=batch_size)\n"
   ]
  },
  {
   "cell_type": "code",
   "execution_count": 34,
   "id": "1dc175b9",
   "metadata": {},
   "outputs": [
    {
     "name": "stdout",
     "output_type": "stream",
     "text": [
      "SequentialModel(\n",
      "  (seq_model): Sequential(\n",
      "    (0): Linear(in_features=512, out_features=128, bias=False)\n",
      "    (1): Dropout(p=0.5, inplace=False)\n",
      "    (2): ReLU()\n",
      "    (3): Linear(in_features=128, out_features=1, bias=True)\n",
      "    (4): Sigmoid()\n",
      "  )\n",
      ")\n"
     ]
    }
   ],
   "source": [
    "print(model)"
   ]
  },
  {
   "cell_type": "code",
   "execution_count": 35,
   "id": "60c580bc",
   "metadata": {},
   "outputs": [],
   "source": [
    "X_train_tfidf, y_train_tfidf = X_train_tfidf.to(device), y_train_tfidf.to(device)\n",
    "X_test_tfidf, y_test_tfidf = X_test_tfidf.to(device), y_test_tfidf.to(device)"
   ]
  },
  {
   "cell_type": "code",
   "execution_count": 36,
   "id": "d2a87a75",
   "metadata": {},
   "outputs": [],
   "source": [
    "train_losses = []\n",
    "train_accuracies = []\n",
    "test_losses = []\n",
    "test_accuracies = []"
   ]
  },
  {
   "cell_type": "code",
   "execution_count": 37,
   "id": "0ccebb3d",
   "metadata": {},
   "outputs": [
    {
     "name": "stdout",
     "output_type": "stream",
     "text": [
      "Epoch [1/10], Loss: 0.3904, Accuracy: 82.25% | Test Loss: 17.1437 | Test Accuracy: 82.86%\n",
      "Epoch [2/10], Loss: 0.3745, Accuracy: 83.08% | Test Loss: 16.6905 | Test Accuracy: 83.31%\n",
      "Epoch [3/10], Loss: 0.3686, Accuracy: 83.49% | Test Loss: 16.4347 | Test Accuracy: 83.57%\n",
      "Epoch [4/10], Loss: 0.3651, Accuracy: 83.68% | Test Loss: 16.2975 | Test Accuracy: 83.70%\n",
      "Epoch [5/10], Loss: 0.3633, Accuracy: 83.82% | Test Loss: 16.1817 | Test Accuracy: 83.82%\n",
      "Epoch [6/10], Loss: 0.3621, Accuracy: 83.89% | Test Loss: 16.2155 | Test Accuracy: 83.78%\n",
      "Epoch [7/10], Loss: 0.3612, Accuracy: 83.93% | Test Loss: 16.1632 | Test Accuracy: 83.84%\n",
      "Epoch [8/10], Loss: 0.3606, Accuracy: 83.97% | Test Loss: 16.1248 | Test Accuracy: 83.88%\n",
      "Epoch [9/10], Loss: 0.3603, Accuracy: 84.02% | Test Loss: 16.0935 | Test Accuracy: 83.91%\n",
      "Epoch [10/10], Loss: 0.3598, Accuracy: 84.04% | Test Loss: 16.0825 | Test Accuracy: 83.92%\n"
     ]
    }
   ],
   "source": [
    "for epoch in range(num_epochs):\n",
    "    total_correct = 0\n",
    "    total_samples = 0\n",
    "    total_loss = 0.0\n",
    "\n",
    "    for i in range(0, len(X_train_tfidf), batch_size):\n",
    "        inputs = X_train_tfidf[i:i + batch_size]\n",
    "        labels = y_train_tfidf[i:i + batch_size]\n",
    "        labels = labels.reshape(-1,1)\n",
    "\n",
    "        # Forward pass\n",
    "        outputs = model(inputs,)\n",
    "        loss_value = criterion(outputs, labels)\n",
    "\n",
    "        # Backward pass and optimization\n",
    "        optimizer.zero_grad()\n",
    "        loss_value.backward()\n",
    "        optimizer.step()\n",
    "\n",
    "        # Calculate accuracy\n",
    "        predicted = torch.round(outputs)\n",
    "        total_samples += labels.size(0)\n",
    "        total_correct += (predicted == labels).sum().item()\n",
    "\n",
    "        total_loss += loss_value.item()\n",
    "\n",
    "    epoch_loss = total_loss / (len(X_train_tfidf) / batch_size)\n",
    "    epoch_accuracy = (total_correct / total_samples) * 100\n",
    "    \n",
    "    train_losses.append(epoch_loss)\n",
    "    train_accuracies.append(epoch_accuracy)\n",
    "    \n",
    "    ## Testing\n",
    "    with torch.no_grad():\n",
    "        outputs = model(X_test_tfidf)\n",
    "        predicted = torch.round(outputs)\n",
    "        test_accuracy = accuracy_score(y_test_tfidf.cpu(), predicted.cpu())\n",
    "        test_loss = criterion(predicted, y_test_tfidf.reshape(-1,1))\n",
    "#         print(f'Accuracy on test set: {test_accuracy * 100:.2f}%')\n",
    "        \n",
    "    test_accuracies.append(test_accuracy)\n",
    "    test_losses.append(test_loss)\n",
    "\n",
    "    print(f'Epoch [{epoch + 1}/{num_epochs}], Loss: {epoch_loss:.4f}, Accuracy: {epoch_accuracy:.2f}% | Test Loss: {test_loss:.4f} | Test Accuracy: {test_accuracy* 100:.2f}%')\n"
   ]
  },
  {
   "cell_type": "code",
   "execution_count": 38,
   "id": "56de9bb5",
   "metadata": {},
   "outputs": [],
   "source": [
    "test_accuracies1 = [t*100 for t in test_accuracies]\n",
    "test_losses1 = [t.cpu() for t in test_losses]"
   ]
  },
  {
   "cell_type": "code",
   "execution_count": 39,
   "id": "7402cc22",
   "metadata": {},
   "outputs": [
    {
     "data": {
      "image/png": "[encoded data removed]",
      "text/plain": [
       "<Figure size 864x720 with 4 Axes>"
      ]
     },
     "metadata": {
      "needs_background": "light"
     },
     "output_type": "display_data"
    }
   ],
   "source": [
    "metrics = {\n",
    "    \"Train Loss\": train_losses,\n",
    "    \"Test Loss\": test_losses1,\n",
    "    \"Train Accuracy\": train_accuracies,\n",
    "    \"Test Accuracy\": test_accuracies1\n",
    "}\n",
    "\n",
    "plt.figure(figsize=(12, 10))\n",
    "\n",
    "for i, (title, values) in enumerate(metrics.items(), 1):\n",
    "    plt.subplot(2, 2, i)\n",
    "    plt.plot(range(1, len(values) + 1), values)\n",
    "    plt.title(title)\n",
    "    plt.xlabel('Epochs')\n",
    "    plt.ylabel('Value')\n",
    "\n",
    "plt.tight_layout()\n",
    "plt.show()"
   ]
  },
  {
   "cell_type": "code",
   "execution_count": 41,
   "id": "fe960919",
   "metadata": {},
   "outputs": [
    {
     "name": "stdout",
     "output_type": "stream",
     "text": [
      "Accuracy on test set: 83.87%\n",
      "Classification Report:\n",
      "              precision    recall  f1-score   support\n",
      "\n",
      "         0.0       0.82      0.86      0.84    199508\n",
      "         1.0       0.85      0.82      0.84    200492\n",
      "\n",
      "    accuracy                           0.84    400000\n",
      "   macro avg       0.84      0.84      0.84    400000\n",
      "weighted avg       0.84      0.84      0.84    400000\n",
      "\n"
     ]
    }
   ],
   "source": [
    "# Testing the model\n",
    "with torch.no_grad():\n",
    "    outputs = model(X_test_tfidf)\n",
    "    predicted = torch.round(outputs)\n",
    "    test_accuracy = accuracy_score(y_test_tfidf.cpu(), predicted.cpu())\n",
    "    print(f'Accuracy on test set: {test_accuracy * 100:.2f}%')\n",
    "    \n",
    "    \n",
    "    # Classification report\n",
    "    print(\"Classification Report:\")\n",
    "    print(classification_report(y_test_tfidf.cpu(), predicted.cpu()))"
   ]
  },
  {
   "cell_type": "code",
   "execution_count": 42,
   "id": "5018df25",
   "metadata": {},
   "outputs": [],
   "source": [
    "import pickle\n",
    "\n",
    "# Save the model to a file using pickle\n",
    "with open(r'C:\\Users\\hp\\Desktop\\AIDI\\CAPSTONE\\results\\SNN_model.pkl', 'wb') as file:\n",
    "    pickle.dump(model, file)\n",
    "    \n"
   ]
  },
  {
   "cell_type": "code",
   "execution_count": 43,
   "id": "53d7f982",
   "metadata": {},
   "outputs": [
    {
     "name": "stdout",
     "output_type": "stream",
     "text": [
      "Accuracy: 82.92%\n",
      "Classification Report:\n",
      "              precision    recall  f1-score   support\n",
      "\n",
      "           0       0.82      0.84      0.83    199508\n",
      "           1       0.84      0.82      0.83    200492\n",
      "\n",
      "    accuracy                           0.83    400000\n",
      "   macro avg       0.83      0.83      0.83    400000\n",
      "weighted avg       0.83      0.83      0.83    400000\n",
      "\n"
     ]
    }
   ],
   "source": [
    "import xgboost as xgb\n",
    "\n",
    "xgb_model = xgb.XGBClassifier(objective=\"binary:logistic\", random_state=42)\n",
    "\n",
    "# Train the model\n",
    "xgb_model.fit(X_train, y_train)\n",
    "\n",
    "# Predict on the test set\n",
    "y_pred = xgb_model.predict(X_test)\n",
    "\n",
    "# Calculate accuracy\n",
    "accuracy = accuracy_score(y_test, y_pred)\n",
    "print(f\"Accuracy: {accuracy * 100:.2f}%\")\n",
    "\n",
    "# Classification report\n",
    "print(\"Classification Report:\")\n",
    "print(classification_report(y_test, y_pred))"
   ]
  },
  {
   "cell_type": "code",
   "execution_count": 46,
   "id": "2ece5211",
   "metadata": {
    "scrolled": true
   },
   "outputs": [
    {
     "name": "stderr",
     "output_type": "stream",
     "text": [
      "\r",
      "  0%|                                                                                            | 0/4 [00:00<?, ?it/s]"
     ]
    },
    {
     "name": "stdout",
     "output_type": "stream",
     "text": [
      "LogisticRegression\n",
      "True Positive(TP)  =  163754 40.94\n",
      "False Positive(FP) =  33148 8.29\n",
      "True Negative(TN)  =  166360 41.59\n",
      "False Negative(FN) =  36738 9.18\n",
      "Accuracy of the binary classification = 0.825\n",
      "              precision    recall  f1-score   support\n",
      "\n",
      "           0       0.82      0.83      0.83    199508\n",
      "           1       0.83      0.82      0.82    200492\n",
      "\n",
      "    accuracy                           0.83    400000\n",
      "   macro avg       0.83      0.83      0.83    400000\n",
      "weighted avg       0.83      0.83      0.83    400000\n",
      "\n"
     ]
    },
    {
     "data": {
      "image/png": "[encoded data removed]",
      "text/plain": [
       "<Figure size 432x288 with 2 Axes>"
      ]
     },
     "metadata": {
      "needs_background": "light"
     },
     "output_type": "display_data"
    },
    {
     "name": "stderr",
     "output_type": "stream",
     "text": [
      "\r",
      " 25%|█████████████████████                                                               | 1/4 [01:31<04:35, 91.94s/it]"
     ]
    },
    {
     "name": "stdout",
     "output_type": "stream",
     "text": [
      "MultinomialNB\n",
      "True Positive(TP)  =  155343 38.84\n",
      "False Positive(FP) =  35894 8.97\n",
      "True Negative(TN)  =  163614 40.9\n",
      "False Negative(FN) =  45149 11.29\n",
      "Accuracy of the binary classification = 0.797\n",
      "              precision    recall  f1-score   support\n",
      "\n",
      "           0       0.78      0.82      0.80    199508\n",
      "           1       0.81      0.77      0.79    200492\n",
      "\n",
      "    accuracy                           0.80    400000\n",
      "   macro avg       0.80      0.80      0.80    400000\n",
      "weighted avg       0.80      0.80      0.80    400000\n",
      "\n"
     ]
    },
    {
     "data": {
      "image/png": "[encoded data removed]",
      "text/plain": [
       "<Figure size 432x288 with 2 Axes>"
      ]
     },
     "metadata": {
      "needs_background": "light"
     },
     "output_type": "display_data"
    },
    {
     "name": "stderr",
     "output_type": "stream",
     "text": [
      "\r",
      " 50%|██████████████████████████████████████████                                          | 2/4 [01:34<01:18, 39.43s/it]"
     ]
    },
    {
     "name": "stdout",
     "output_type": "stream",
     "text": [
      "LinearSVC\n",
      "True Positive(TP)  =  163254 40.81\n",
      "False Positive(FP) =  32675 8.17\n",
      "True Negative(TN)  =  166833 41.71\n",
      "False Negative(FN) =  37238 9.31\n",
      "Accuracy of the binary classification = 0.825\n",
      "              precision    recall  f1-score   support\n",
      "\n",
      "           0       0.82      0.84      0.83    199508\n",
      "           1       0.83      0.81      0.82    200492\n",
      "\n",
      "    accuracy                           0.83    400000\n",
      "   macro avg       0.83      0.83      0.83    400000\n",
      "weighted avg       0.83      0.83      0.83    400000\n",
      "\n"
     ]
    },
    {
     "data": {
      "image/png": "[encoded data removed]",
      "text/plain": [
       "<Figure size 432x288 with 2 Axes>"
      ]
     },
     "metadata": {
      "needs_background": "light"
     },
     "output_type": "display_data"
    },
    {
     "name": "stderr",
     "output_type": "stream",
     "text": [
      "\r",
      " 75%|███████████████████████████████████████████████████████████████                     | 3/4 [02:13<00:39, 39.14s/it]"
     ]
    },
    {
     "name": "stdout",
     "output_type": "stream",
     "text": [
      "Perceptron\n",
      "True Positive(TP)  =  80196 20.05\n",
      "False Positive(FP) =  5675 1.42\n",
      "True Negative(TN)  =  193833 48.46\n",
      "False Negative(FN) =  120296 30.07\n",
      "Accuracy of the binary classification = 0.685\n",
      "              precision    recall  f1-score   support\n",
      "\n",
      "           0       0.62      0.97      0.75    199508\n",
      "           1       0.93      0.40      0.56    200492\n",
      "\n",
      "    accuracy                           0.69    400000\n",
      "   macro avg       0.78      0.69      0.66    400000\n",
      "weighted avg       0.78      0.69      0.66    400000\n",
      "\n"
     ]
    },
    {
     "data": {
      "image/png": "[encoded data removed]",
      "text/plain": [
       "<Figure size 432x288 with 2 Axes>"
      ]
     },
     "metadata": {
      "needs_background": "light"
     },
     "output_type": "display_data"
    },
    {
     "name": "stderr",
     "output_type": "stream",
     "text": [
      "100%|████████████████████████████████████████████████████████████████████████████████████| 4/4 [02:22<00:00, 35.53s/it]\n"
     ]
    }
   ],
   "source": [
    "from tqdm import tqdm\n",
    "\n",
    "lr = LogisticRegression(max_iter = 400)\n",
    "mn = MultinomialNB()\n",
    "svc = LinearSVC()\n",
    "perc = Perceptron()\n",
    "\n",
    "model_list = [lr, mn, svc, perc]\n",
    "accuracy_list = []\n",
    "for model in tqdm(model_list):\n",
    "    model.fit(X_train, y_train)\n",
    "    predictions = model.predict(X_test)\n",
    "    cm = confusion_matrix(y_test, predictions)\n",
    "    TN, FP, FN, TP = confusion_matrix(y_test, predictions).ravel()\n",
    "    print(model.__class__.__name__)\n",
    "    print('True Positive(TP)  = ', TP, np.round(TP / (TP+FP+TN+FN) * 100, 2))\n",
    "    print('False Positive(FP) = ', FP, np.round(FP / (TP+FP+TN+FN) * 100, 2))\n",
    "    print('True Negative(TN)  = ', TN, np.round(TN / (TP+FP+TN+FN) * 100, 2))\n",
    "    print('False Negative(FN) = ', FN, np.round(FN / (TP+FP+TN+FN) * 100, 2))\n",
    "    accuracy =  (TP+TN) /(TP+FP+TN+FN)\n",
    "    print('Accuracy of the binary classification = {:0.3f}'.format(accuracy))\n",
    "    print(classification_report(y_test,predictions))\n",
    "    accuracy_list.append(accuracy)\n",
    "    disp = ConfusionMatrixDisplay(confusion_matrix=cm)  \n",
    "    disp.plot(cmap=plt.cm.Blues)\n",
    "    plt.show()"
   ]
  },
  {
   "cell_type": "code",
   "execution_count": 51,
   "id": "45bc7783",
   "metadata": {},
   "outputs": [],
   "source": [
    "accuracy_list = [.825,.797,.825,.685]"
   ]
  },
  {
   "cell_type": "code",
   "execution_count": null,
   "id": "9532d247",
   "metadata": {},
   "outputs": [],
   "source": []
  },
  {
   "cell_type": "code",
   "execution_count": 54,
   "id": "ff9ab1c0",
   "metadata": {},
   "outputs": [
    {
     "data": {
      "text/plain": [
       "array([ 0,  2,  4,  6,  8, 10, 12, 14])"
      ]
     },
     "execution_count": 54,
     "metadata": {},
     "output_type": "execute_result"
    }
   ],
   "source": [
    "a=[]\n",
    "for i in range(0,8):\n",
    "    a.append(i)\n",
    "    \n",
    "np.array(a)*2"
   ]
  },
  {
   "cell_type": "code",
   "execution_count": 59,
   "id": "f82e267d",
   "metadata": {},
   "outputs": [
    {
     "data": {
      "image/png": "[encoded data removed]",
      "text/plain": [
       "<Figure size 864x576 with 1 Axes>"
      ]
     },
     "metadata": {
      "needs_background": "light"
     },
     "output_type": "display_data"
    }
   ],
   "source": [
    "def compare_models(x,y,label):\n",
    "    plt.rcParams[\"figure.figsize\"] = (12,8)\n",
    "    ax = sns.barplot(x=x,y=y)\n",
    "    # Annotate y values on top of each bar\n",
    "    for p in ax.patches:\n",
    "        ax.annotate(f'{p.get_height():.2f}', (p.get_x() + p.get_width() / 2., p.get_height()),\n",
    "            ha='center', va='center', xytext=(0, 10), textcoords='offset points')\n",
    "\n",
    "    # Add labels and title\n",
    "    plt.xlabel('Models')\n",
    "    plt.ylabel(label)\n",
    "    plt.title(f'{label} for Different Regression Models')\n",
    "    \n",
    "    \n",
    "## Compare R2 Values\n",
    "x=['LR','MNB','SVC','Perceptron','XGB','SNN']\n",
    "y=np.array(accuracy_list+[.829,.834])*100\n",
    "\n",
    "\n",
    "compare_models(x,y,'Accuracy')"
   ]
  },
  {
   "cell_type": "markdown",
   "id": "918abea0",
   "metadata": {},
   "source": [
    "The The Sequencial NN model gives the best Recall, f1-score, and accuracy value. Therefore we select LR model"
   ]
  },
  {
   "cell_type": "code",
   "execution_count": null,
   "id": "e0da404a",
   "metadata": {},
   "outputs": [],
   "source": []
  }
 ],
 "metadata": {
  "kernelspec": {
   "display_name": "Python 3 (ipykernel)",
   "language": "python",
   "name": "python3"
  },
  "language_info": {
   "codemirror_mode": {
    "name": "ipython",
    "version": 3
   },
   "file_extension": ".py",
   "mimetype": "text/x-python",
   "name": "python",
   "nbconvert_exporter": "python",
   "pygments_lexer": "ipython3",
   "version": "3.9.12"
  }
 },
 "nbformat": 4,
 "nbformat_minor": 5
}
